{
 "cells": [
  {
   "cell_type": "code",
   "execution_count": 72,
   "metadata": {},
   "outputs": [
    {
     "data": {
      "text/html": [
       "<div>\n",
       "<style scoped>\n",
       "    .dataframe tbody tr th:only-of-type {\n",
       "        vertical-align: middle;\n",
       "    }\n",
       "\n",
       "    .dataframe tbody tr th {\n",
       "        vertical-align: top;\n",
       "    }\n",
       "\n",
       "    .dataframe thead th {\n",
       "        text-align: right;\n",
       "    }\n",
       "</style>\n",
       "<table border=\"1\" class=\"dataframe\">\n",
       "  <thead>\n",
       "    <tr style=\"text-align: right;\">\n",
       "      <th></th>\n",
       "      <th>id</th>\n",
       "      <th>sex</th>\n",
       "      <th>birth_year</th>\n",
       "      <th>country</th>\n",
       "      <th>region</th>\n",
       "      <th>disease</th>\n",
       "      <th>group</th>\n",
       "      <th>infection_reason</th>\n",
       "      <th>infection_order</th>\n",
       "      <th>infected_by</th>\n",
       "      <th>contact_number</th>\n",
       "      <th>confirmed_date</th>\n",
       "      <th>released_date</th>\n",
       "      <th>deceased_date</th>\n",
       "      <th>state</th>\n",
       "    </tr>\n",
       "  </thead>\n",
       "  <tbody>\n",
       "    <tr>\n",
       "      <th>0</th>\n",
       "      <td>1</td>\n",
       "      <td>female</td>\n",
       "      <td>1984.0</td>\n",
       "      <td>China</td>\n",
       "      <td>filtered at airport</td>\n",
       "      <td>NaN</td>\n",
       "      <td>NaN</td>\n",
       "      <td>visit to Wuhan</td>\n",
       "      <td>1.0</td>\n",
       "      <td>NaN</td>\n",
       "      <td>45.0</td>\n",
       "      <td>2020-01-20</td>\n",
       "      <td>2020-02-06</td>\n",
       "      <td>NaN</td>\n",
       "      <td>released</td>\n",
       "    </tr>\n",
       "    <tr>\n",
       "      <th>1</th>\n",
       "      <td>2</td>\n",
       "      <td>male</td>\n",
       "      <td>1964.0</td>\n",
       "      <td>Korea</td>\n",
       "      <td>filtered at airport</td>\n",
       "      <td>NaN</td>\n",
       "      <td>NaN</td>\n",
       "      <td>visit to Wuhan</td>\n",
       "      <td>1.0</td>\n",
       "      <td>NaN</td>\n",
       "      <td>75.0</td>\n",
       "      <td>2020-01-24</td>\n",
       "      <td>2020-02-05</td>\n",
       "      <td>NaN</td>\n",
       "      <td>released</td>\n",
       "    </tr>\n",
       "    <tr>\n",
       "      <th>2</th>\n",
       "      <td>3</td>\n",
       "      <td>male</td>\n",
       "      <td>1966.0</td>\n",
       "      <td>Korea</td>\n",
       "      <td>capital area</td>\n",
       "      <td>NaN</td>\n",
       "      <td>NaN</td>\n",
       "      <td>visit to Wuhan</td>\n",
       "      <td>1.0</td>\n",
       "      <td>NaN</td>\n",
       "      <td>16.0</td>\n",
       "      <td>2020-01-26</td>\n",
       "      <td>2020-02-12</td>\n",
       "      <td>NaN</td>\n",
       "      <td>released</td>\n",
       "    </tr>\n",
       "    <tr>\n",
       "      <th>3</th>\n",
       "      <td>4</td>\n",
       "      <td>male</td>\n",
       "      <td>1964.0</td>\n",
       "      <td>Korea</td>\n",
       "      <td>capital area</td>\n",
       "      <td>NaN</td>\n",
       "      <td>NaN</td>\n",
       "      <td>visit to Wuhan</td>\n",
       "      <td>1.0</td>\n",
       "      <td>NaN</td>\n",
       "      <td>95.0</td>\n",
       "      <td>2020-01-27</td>\n",
       "      <td>2020-02-09</td>\n",
       "      <td>NaN</td>\n",
       "      <td>released</td>\n",
       "    </tr>\n",
       "    <tr>\n",
       "      <th>4</th>\n",
       "      <td>5</td>\n",
       "      <td>male</td>\n",
       "      <td>1987.0</td>\n",
       "      <td>Korea</td>\n",
       "      <td>capital area</td>\n",
       "      <td>NaN</td>\n",
       "      <td>NaN</td>\n",
       "      <td>visit to Wuhan</td>\n",
       "      <td>1.0</td>\n",
       "      <td>NaN</td>\n",
       "      <td>31.0</td>\n",
       "      <td>2020-01-30</td>\n",
       "      <td>2020-03-02</td>\n",
       "      <td>NaN</td>\n",
       "      <td>released</td>\n",
       "    </tr>\n",
       "  </tbody>\n",
       "</table>\n",
       "</div>"
      ],
      "text/plain": [
       "   id     sex  birth_year country               region  disease group  \\\n",
       "0   1  female      1984.0   China  filtered at airport      NaN   NaN   \n",
       "1   2    male      1964.0   Korea  filtered at airport      NaN   NaN   \n",
       "2   3    male      1966.0   Korea         capital area      NaN   NaN   \n",
       "3   4    male      1964.0   Korea         capital area      NaN   NaN   \n",
       "4   5    male      1987.0   Korea         capital area      NaN   NaN   \n",
       "\n",
       "  infection_reason  infection_order  infected_by  contact_number  \\\n",
       "0   visit to Wuhan              1.0          NaN            45.0   \n",
       "1   visit to Wuhan              1.0          NaN            75.0   \n",
       "2   visit to Wuhan              1.0          NaN            16.0   \n",
       "3   visit to Wuhan              1.0          NaN            95.0   \n",
       "4   visit to Wuhan              1.0          NaN            31.0   \n",
       "\n",
       "  confirmed_date released_date deceased_date     state  \n",
       "0     2020-01-20    2020-02-06           NaN  released  \n",
       "1     2020-01-24    2020-02-05           NaN  released  \n",
       "2     2020-01-26    2020-02-12           NaN  released  \n",
       "3     2020-01-27    2020-02-09           NaN  released  \n",
       "4     2020-01-30    2020-03-02           NaN  released  "
      ]
     },
     "execution_count": 72,
     "metadata": {},
     "output_type": "execute_result"
    }
   ],
   "source": [
    "import pandas as pd\n",
    "import numpy as np\n",
    "import seaborn as sns\n",
    "import matplotlib.pyplot as plt\n",
    "import warnings\n",
    "warnings.filterwarnings('ignore')\n",
    "\n",
    "#Source of data: KCDC (Korea Centers for Disease Control & Prevention)\n",
    "#https://www.kaggle.com/kimjihoo/coronavirusdataset\n",
    "# Since the number of confirmed patients exceeds 550, Some confirmed patient informatation has not yet been updated.\n",
    "patient = pd.read_csv('./input/patient.csv')\n",
    "patient.head(5)"
   ]
  },
  {
   "cell_type": "code",
   "execution_count": 73,
   "metadata": {},
   "outputs": [
    {
     "name": "stdout",
     "output_type": "stream",
     "text": [
      "<class 'pandas.core.frame.DataFrame'>\n",
      "RangeIndex: 7383 entries, 0 to 7382\n",
      "Data columns (total 15 columns):\n",
      "id                  7383 non-null int64\n",
      "sex                 430 non-null object\n",
      "birth_year          417 non-null float64\n",
      "country             7382 non-null object\n",
      "region              418 non-null object\n",
      "disease             26 non-null float64\n",
      "group               83 non-null object\n",
      "infection_reason    144 non-null object\n",
      "infection_order     35 non-null float64\n",
      "infected_by         70 non-null float64\n",
      "contact_number      50 non-null float64\n",
      "confirmed_date      7382 non-null object\n",
      "released_date       55 non-null object\n",
      "deceased_date       32 non-null object\n",
      "state               7382 non-null object\n",
      "dtypes: float64(5), int64(1), object(9)\n",
      "memory usage: 865.3+ KB\n"
     ]
    }
   ],
   "source": [
    "patient.info()"
   ]
  },
  {
   "cell_type": "code",
   "execution_count": 74,
   "metadata": {},
   "outputs": [
    {
     "data": {
      "text/plain": [
       "isolated    7296\n",
       "released      55\n",
       "deceased      31\n",
       "Name: state, dtype: int64"
      ]
     },
     "execution_count": 74,
     "metadata": {},
     "output_type": "execute_result"
    }
   ],
   "source": [
    "patient['state'].value_counts()"
   ]
  },
  {
   "cell_type": "code",
   "execution_count": 75,
   "metadata": {},
   "outputs": [
    {
     "data": {
      "text/plain": [
       "contact with patient                 75\n",
       "visit to Daegu                       43\n",
       "visit to Wuhan                        8\n",
       "pilgrimage to Israel                  6\n",
       "contact with patient in Singapore     2\n",
       "visit to China                        2\n",
       "visit to Thailand                     2\n",
       "residence in Wuhan                    2\n",
       "contact with patient in Japan         1\n",
       "visit to Vietnam                      1\n",
       "visit to Japan                        1\n",
       "visit to Italy                        1\n",
       "Name: infection_reason, dtype: int64"
      ]
     },
     "execution_count": 75,
     "metadata": {},
     "output_type": "execute_result"
    }
   ],
   "source": [
    "patient['infection_reason'].value_counts()"
   ]
  },
  {
   "cell_type": "code",
   "execution_count": 76,
   "metadata": {},
   "outputs": [
    {
     "data": {
      "text/plain": [
       "31.0      8\n",
       "6.0       5\n",
       "126.0     3\n",
       "780.0     3\n",
       "372.0     3\n",
       "3.0       2\n",
       "246.0     2\n",
       "335.0     2\n",
       "794.0     2\n",
       "1252.0    2\n",
       "83.0      2\n",
       "161.0     2\n",
       "27.0      2\n",
       "15.0      2\n",
       "16.0      2\n",
       "1532.0    2\n",
       "230.0     2\n",
       "20.0      1\n",
       "4.0       1\n",
       "40.0      1\n",
       "56.0      1\n",
       "30.0      1\n",
       "44.0      1\n",
       "12.0      1\n",
       "5.0       1\n",
       "113.0     1\n",
       "1247.0    1\n",
       "1251.0    1\n",
       "164.0     1\n",
       "121.0     1\n",
       "938.0     1\n",
       "627.0     1\n",
       "835.0     1\n",
       "188.0     1\n",
       "29.0      1\n",
       "136.0     1\n",
       "1177.0    1\n",
       "347.0     1\n",
       "1257.0    1\n",
       "2621.0    1\n",
       "1768.0    1\n",
       "Name: infected_by, dtype: int64"
      ]
     },
     "execution_count": 76,
     "metadata": {},
     "output_type": "execute_result"
    }
   ],
   "source": [
    "patient['infected_by'].value_counts()"
   ]
  },
  {
   "cell_type": "code",
   "execution_count": 77,
   "metadata": {},
   "outputs": [],
   "source": [
    "patient['age'] = 2020 - patient['birth_year']"
   ]
  },
  {
   "cell_type": "code",
   "execution_count": 78,
   "metadata": {},
   "outputs": [
    {
     "data": {
      "text/html": [
       "<div>\n",
       "<style scoped>\n",
       "    .dataframe tbody tr th:only-of-type {\n",
       "        vertical-align: middle;\n",
       "    }\n",
       "\n",
       "    .dataframe tbody tr th {\n",
       "        vertical-align: top;\n",
       "    }\n",
       "\n",
       "    .dataframe thead th {\n",
       "        text-align: right;\n",
       "    }\n",
       "</style>\n",
       "<table border=\"1\" class=\"dataframe\">\n",
       "  <thead>\n",
       "    <tr style=\"text-align: right;\">\n",
       "      <th></th>\n",
       "      <th>id</th>\n",
       "      <th>sex</th>\n",
       "      <th>birth_year</th>\n",
       "      <th>country</th>\n",
       "      <th>region</th>\n",
       "      <th>disease</th>\n",
       "      <th>group</th>\n",
       "      <th>infection_reason</th>\n",
       "      <th>infection_order</th>\n",
       "      <th>infected_by</th>\n",
       "      <th>contact_number</th>\n",
       "      <th>confirmed_date</th>\n",
       "      <th>released_date</th>\n",
       "      <th>deceased_date</th>\n",
       "      <th>state</th>\n",
       "      <th>age</th>\n",
       "    </tr>\n",
       "  </thead>\n",
       "  <tbody>\n",
       "    <tr>\n",
       "      <th>0</th>\n",
       "      <td>1</td>\n",
       "      <td>female</td>\n",
       "      <td>1984.0</td>\n",
       "      <td>China</td>\n",
       "      <td>filtered at airport</td>\n",
       "      <td>NaN</td>\n",
       "      <td>NaN</td>\n",
       "      <td>visit to Wuhan</td>\n",
       "      <td>1.0</td>\n",
       "      <td>NaN</td>\n",
       "      <td>45.0</td>\n",
       "      <td>2020-01-20</td>\n",
       "      <td>2020-02-06</td>\n",
       "      <td>NaN</td>\n",
       "      <td>released</td>\n",
       "      <td>36.0</td>\n",
       "    </tr>\n",
       "    <tr>\n",
       "      <th>1</th>\n",
       "      <td>2</td>\n",
       "      <td>male</td>\n",
       "      <td>1964.0</td>\n",
       "      <td>Korea</td>\n",
       "      <td>filtered at airport</td>\n",
       "      <td>NaN</td>\n",
       "      <td>NaN</td>\n",
       "      <td>visit to Wuhan</td>\n",
       "      <td>1.0</td>\n",
       "      <td>NaN</td>\n",
       "      <td>75.0</td>\n",
       "      <td>2020-01-24</td>\n",
       "      <td>2020-02-05</td>\n",
       "      <td>NaN</td>\n",
       "      <td>released</td>\n",
       "      <td>56.0</td>\n",
       "    </tr>\n",
       "    <tr>\n",
       "      <th>2</th>\n",
       "      <td>3</td>\n",
       "      <td>male</td>\n",
       "      <td>1966.0</td>\n",
       "      <td>Korea</td>\n",
       "      <td>capital area</td>\n",
       "      <td>NaN</td>\n",
       "      <td>NaN</td>\n",
       "      <td>visit to Wuhan</td>\n",
       "      <td>1.0</td>\n",
       "      <td>NaN</td>\n",
       "      <td>16.0</td>\n",
       "      <td>2020-01-26</td>\n",
       "      <td>2020-02-12</td>\n",
       "      <td>NaN</td>\n",
       "      <td>released</td>\n",
       "      <td>54.0</td>\n",
       "    </tr>\n",
       "    <tr>\n",
       "      <th>3</th>\n",
       "      <td>4</td>\n",
       "      <td>male</td>\n",
       "      <td>1964.0</td>\n",
       "      <td>Korea</td>\n",
       "      <td>capital area</td>\n",
       "      <td>NaN</td>\n",
       "      <td>NaN</td>\n",
       "      <td>visit to Wuhan</td>\n",
       "      <td>1.0</td>\n",
       "      <td>NaN</td>\n",
       "      <td>95.0</td>\n",
       "      <td>2020-01-27</td>\n",
       "      <td>2020-02-09</td>\n",
       "      <td>NaN</td>\n",
       "      <td>released</td>\n",
       "      <td>56.0</td>\n",
       "    </tr>\n",
       "    <tr>\n",
       "      <th>4</th>\n",
       "      <td>5</td>\n",
       "      <td>male</td>\n",
       "      <td>1987.0</td>\n",
       "      <td>Korea</td>\n",
       "      <td>capital area</td>\n",
       "      <td>NaN</td>\n",
       "      <td>NaN</td>\n",
       "      <td>visit to Wuhan</td>\n",
       "      <td>1.0</td>\n",
       "      <td>NaN</td>\n",
       "      <td>31.0</td>\n",
       "      <td>2020-01-30</td>\n",
       "      <td>2020-03-02</td>\n",
       "      <td>NaN</td>\n",
       "      <td>released</td>\n",
       "      <td>33.0</td>\n",
       "    </tr>\n",
       "  </tbody>\n",
       "</table>\n",
       "</div>"
      ],
      "text/plain": [
       "   id     sex  birth_year country               region  disease group  \\\n",
       "0   1  female      1984.0   China  filtered at airport      NaN   NaN   \n",
       "1   2    male      1964.0   Korea  filtered at airport      NaN   NaN   \n",
       "2   3    male      1966.0   Korea         capital area      NaN   NaN   \n",
       "3   4    male      1964.0   Korea         capital area      NaN   NaN   \n",
       "4   5    male      1987.0   Korea         capital area      NaN   NaN   \n",
       "\n",
       "  infection_reason  infection_order  infected_by  contact_number  \\\n",
       "0   visit to Wuhan              1.0          NaN            45.0   \n",
       "1   visit to Wuhan              1.0          NaN            75.0   \n",
       "2   visit to Wuhan              1.0          NaN            16.0   \n",
       "3   visit to Wuhan              1.0          NaN            95.0   \n",
       "4   visit to Wuhan              1.0          NaN            31.0   \n",
       "\n",
       "  confirmed_date released_date deceased_date     state   age  \n",
       "0     2020-01-20    2020-02-06           NaN  released  36.0  \n",
       "1     2020-01-24    2020-02-05           NaN  released  56.0  \n",
       "2     2020-01-26    2020-02-12           NaN  released  54.0  \n",
       "3     2020-01-27    2020-02-09           NaN  released  56.0  \n",
       "4     2020-01-30    2020-03-02           NaN  released  33.0  "
      ]
     },
     "execution_count": 78,
     "metadata": {},
     "output_type": "execute_result"
    }
   ],
   "source": [
    "patient.head()"
   ]
  },
  {
   "cell_type": "code",
   "execution_count": 79,
   "metadata": {},
   "outputs": [
    {
     "data": {
      "text/plain": [
       "35.0    24\n",
       "23.0    12\n",
       "64.0    12\n",
       "24.0    11\n",
       "58.0    10\n",
       "25.0    10\n",
       "Name: age, dtype: int64"
      ]
     },
     "execution_count": 79,
     "metadata": {},
     "output_type": "execute_result"
    }
   ],
   "source": [
    "patient['age'].value_counts().head(6)"
   ]
  },
  {
   "cell_type": "code",
   "execution_count": 80,
   "metadata": {},
   "outputs": [
    {
     "data": {
      "text/html": [
       "<div>\n",
       "<style scoped>\n",
       "    .dataframe tbody tr th:only-of-type {\n",
       "        vertical-align: middle;\n",
       "    }\n",
       "\n",
       "    .dataframe tbody tr th {\n",
       "        vertical-align: top;\n",
       "    }\n",
       "\n",
       "    .dataframe thead th {\n",
       "        text-align: right;\n",
       "    }\n",
       "</style>\n",
       "<table border=\"1\" class=\"dataframe\">\n",
       "  <thead>\n",
       "    <tr style=\"text-align: right;\">\n",
       "      <th></th>\n",
       "      <th>id</th>\n",
       "      <th>sex</th>\n",
       "      <th>birth_year</th>\n",
       "      <th>country</th>\n",
       "      <th>region</th>\n",
       "      <th>disease</th>\n",
       "      <th>group</th>\n",
       "      <th>infection_reason</th>\n",
       "      <th>infection_order</th>\n",
       "      <th>infected_by</th>\n",
       "      <th>contact_number</th>\n",
       "      <th>confirmed_date</th>\n",
       "      <th>released_date</th>\n",
       "      <th>deceased_date</th>\n",
       "      <th>state</th>\n",
       "      <th>age</th>\n",
       "    </tr>\n",
       "  </thead>\n",
       "  <tbody>\n",
       "    <tr>\n",
       "      <th>37</th>\n",
       "      <td>38</td>\n",
       "      <td>female</td>\n",
       "      <td>1963.0</td>\n",
       "      <td>Korea</td>\n",
       "      <td>Daegu</td>\n",
       "      <td>1.0</td>\n",
       "      <td>NaN</td>\n",
       "      <td>NaN</td>\n",
       "      <td>NaN</td>\n",
       "      <td>NaN</td>\n",
       "      <td>NaN</td>\n",
       "      <td>2020-02-18</td>\n",
       "      <td>NaN</td>\n",
       "      <td>2020-02-23</td>\n",
       "      <td>deceased</td>\n",
       "      <td>57.0</td>\n",
       "    </tr>\n",
       "    <tr>\n",
       "      <th>53</th>\n",
       "      <td>54</td>\n",
       "      <td>male</td>\n",
       "      <td>1963.0</td>\n",
       "      <td>Korea</td>\n",
       "      <td>Gyeongsangbuk-do</td>\n",
       "      <td>1.0</td>\n",
       "      <td>Cheongdo Daenam Hospital</td>\n",
       "      <td>NaN</td>\n",
       "      <td>NaN</td>\n",
       "      <td>NaN</td>\n",
       "      <td>NaN</td>\n",
       "      <td>2020-02-19</td>\n",
       "      <td>NaN</td>\n",
       "      <td>2020-02-23</td>\n",
       "      <td>deceased</td>\n",
       "      <td>57.0</td>\n",
       "    </tr>\n",
       "    <tr>\n",
       "      <th>54</th>\n",
       "      <td>55</td>\n",
       "      <td>male</td>\n",
       "      <td>1961.0</td>\n",
       "      <td>Korea</td>\n",
       "      <td>Gyeongsangbuk-do</td>\n",
       "      <td>1.0</td>\n",
       "      <td>Cheongdo Daenam Hospital</td>\n",
       "      <td>NaN</td>\n",
       "      <td>NaN</td>\n",
       "      <td>NaN</td>\n",
       "      <td>NaN</td>\n",
       "      <td>2020-02-19</td>\n",
       "      <td>NaN</td>\n",
       "      <td>2020-02-23</td>\n",
       "      <td>deceased</td>\n",
       "      <td>59.0</td>\n",
       "    </tr>\n",
       "    <tr>\n",
       "      <th>103</th>\n",
       "      <td>104</td>\n",
       "      <td>male</td>\n",
       "      <td>1957.0</td>\n",
       "      <td>Korea</td>\n",
       "      <td>Gyeongsangbuk-do</td>\n",
       "      <td>1.0</td>\n",
       "      <td>Cheongdo Daenam Hospital</td>\n",
       "      <td>NaN</td>\n",
       "      <td>NaN</td>\n",
       "      <td>NaN</td>\n",
       "      <td>NaN</td>\n",
       "      <td>2020-02-20</td>\n",
       "      <td>NaN</td>\n",
       "      <td>2020-02-19</td>\n",
       "      <td>deceased</td>\n",
       "      <td>63.0</td>\n",
       "    </tr>\n",
       "    <tr>\n",
       "      <th>106</th>\n",
       "      <td>107</td>\n",
       "      <td>male</td>\n",
       "      <td>1953.0</td>\n",
       "      <td>Korea</td>\n",
       "      <td>Gyeongsangbuk-do</td>\n",
       "      <td>1.0</td>\n",
       "      <td>Cheongdo Daenam Hospital</td>\n",
       "      <td>NaN</td>\n",
       "      <td>NaN</td>\n",
       "      <td>NaN</td>\n",
       "      <td>NaN</td>\n",
       "      <td>2020-02-21</td>\n",
       "      <td>NaN</td>\n",
       "      <td>2020-02-24</td>\n",
       "      <td>deceased</td>\n",
       "      <td>67.0</td>\n",
       "    </tr>\n",
       "  </tbody>\n",
       "</table>\n",
       "</div>"
      ],
      "text/plain": [
       "      id     sex  birth_year country            region  disease  \\\n",
       "37    38  female      1963.0   Korea             Daegu      1.0   \n",
       "53    54    male      1963.0   Korea  Gyeongsangbuk-do      1.0   \n",
       "54    55    male      1961.0   Korea  Gyeongsangbuk-do      1.0   \n",
       "103  104    male      1957.0   Korea  Gyeongsangbuk-do      1.0   \n",
       "106  107    male      1953.0   Korea  Gyeongsangbuk-do      1.0   \n",
       "\n",
       "                        group infection_reason  infection_order  infected_by  \\\n",
       "37                        NaN              NaN              NaN          NaN   \n",
       "53   Cheongdo Daenam Hospital              NaN              NaN          NaN   \n",
       "54   Cheongdo Daenam Hospital              NaN              NaN          NaN   \n",
       "103  Cheongdo Daenam Hospital              NaN              NaN          NaN   \n",
       "106  Cheongdo Daenam Hospital              NaN              NaN          NaN   \n",
       "\n",
       "     contact_number confirmed_date released_date deceased_date     state   age  \n",
       "37              NaN     2020-02-18           NaN    2020-02-23  deceased  57.0  \n",
       "53              NaN     2020-02-19           NaN    2020-02-23  deceased  57.0  \n",
       "54              NaN     2020-02-19           NaN    2020-02-23  deceased  59.0  \n",
       "103             NaN     2020-02-20           NaN    2020-02-19  deceased  63.0  \n",
       "106             NaN     2020-02-21           NaN    2020-02-24  deceased  67.0  "
      ]
     },
     "execution_count": 80,
     "metadata": {},
     "output_type": "execute_result"
    }
   ],
   "source": [
    "patient.loc[patient['state'] == 'deceased'].head()"
   ]
  },
  {
   "cell_type": "code",
   "execution_count": 81,
   "metadata": {},
   "outputs": [],
   "source": [
    "deceased = patient.loc[patient['state'] == 'deceased']\n",
    "released = patient.loc[patient['state'] == 'released']\n",
    "isolated = patient.loc[patient['state'] == 'isolated']"
   ]
  },
  {
   "cell_type": "code",
   "execution_count": 82,
   "metadata": {},
   "outputs": [],
   "source": [
    "date_column = [\"confirmed_date\",\"deceased_date\"]"
   ]
  },
  {
   "cell_type": "code",
   "execution_count": 83,
   "metadata": {},
   "outputs": [
    {
     "data": {
      "text/html": [
       "<div>\n",
       "<style scoped>\n",
       "    .dataframe tbody tr th:only-of-type {\n",
       "        vertical-align: middle;\n",
       "    }\n",
       "\n",
       "    .dataframe tbody tr th {\n",
       "        vertical-align: top;\n",
       "    }\n",
       "\n",
       "    .dataframe thead th {\n",
       "        text-align: right;\n",
       "    }\n",
       "</style>\n",
       "<table border=\"1\" class=\"dataframe\">\n",
       "  <thead>\n",
       "    <tr style=\"text-align: right;\">\n",
       "      <th></th>\n",
       "      <th>id</th>\n",
       "      <th>sex</th>\n",
       "      <th>birth_year</th>\n",
       "      <th>country</th>\n",
       "      <th>region</th>\n",
       "      <th>disease</th>\n",
       "      <th>group</th>\n",
       "      <th>infection_reason</th>\n",
       "      <th>infection_order</th>\n",
       "      <th>infected_by</th>\n",
       "      <th>contact_number</th>\n",
       "      <th>confirmed_date</th>\n",
       "      <th>released_date</th>\n",
       "      <th>deceased_date</th>\n",
       "      <th>state</th>\n",
       "      <th>age</th>\n",
       "      <th>no_of_days_survived</th>\n",
       "    </tr>\n",
       "  </thead>\n",
       "  <tbody>\n",
       "    <tr>\n",
       "      <th>37</th>\n",
       "      <td>38</td>\n",
       "      <td>female</td>\n",
       "      <td>1963.0</td>\n",
       "      <td>Korea</td>\n",
       "      <td>Daegu</td>\n",
       "      <td>1.0</td>\n",
       "      <td>NaN</td>\n",
       "      <td>NaN</td>\n",
       "      <td>NaN</td>\n",
       "      <td>NaN</td>\n",
       "      <td>NaN</td>\n",
       "      <td>2020-02-18</td>\n",
       "      <td>NaN</td>\n",
       "      <td>2020-02-23</td>\n",
       "      <td>deceased</td>\n",
       "      <td>57.0</td>\n",
       "      <td>5 days</td>\n",
       "    </tr>\n",
       "    <tr>\n",
       "      <th>53</th>\n",
       "      <td>54</td>\n",
       "      <td>male</td>\n",
       "      <td>1963.0</td>\n",
       "      <td>Korea</td>\n",
       "      <td>Gyeongsangbuk-do</td>\n",
       "      <td>1.0</td>\n",
       "      <td>Cheongdo Daenam Hospital</td>\n",
       "      <td>NaN</td>\n",
       "      <td>NaN</td>\n",
       "      <td>NaN</td>\n",
       "      <td>NaN</td>\n",
       "      <td>2020-02-19</td>\n",
       "      <td>NaN</td>\n",
       "      <td>2020-02-23</td>\n",
       "      <td>deceased</td>\n",
       "      <td>57.0</td>\n",
       "      <td>4 days</td>\n",
       "    </tr>\n",
       "    <tr>\n",
       "      <th>54</th>\n",
       "      <td>55</td>\n",
       "      <td>male</td>\n",
       "      <td>1961.0</td>\n",
       "      <td>Korea</td>\n",
       "      <td>Gyeongsangbuk-do</td>\n",
       "      <td>1.0</td>\n",
       "      <td>Cheongdo Daenam Hospital</td>\n",
       "      <td>NaN</td>\n",
       "      <td>NaN</td>\n",
       "      <td>NaN</td>\n",
       "      <td>NaN</td>\n",
       "      <td>2020-02-19</td>\n",
       "      <td>NaN</td>\n",
       "      <td>2020-02-23</td>\n",
       "      <td>deceased</td>\n",
       "      <td>59.0</td>\n",
       "      <td>4 days</td>\n",
       "    </tr>\n",
       "    <tr>\n",
       "      <th>103</th>\n",
       "      <td>104</td>\n",
       "      <td>male</td>\n",
       "      <td>1957.0</td>\n",
       "      <td>Korea</td>\n",
       "      <td>Gyeongsangbuk-do</td>\n",
       "      <td>1.0</td>\n",
       "      <td>Cheongdo Daenam Hospital</td>\n",
       "      <td>NaN</td>\n",
       "      <td>NaN</td>\n",
       "      <td>NaN</td>\n",
       "      <td>NaN</td>\n",
       "      <td>2020-02-20</td>\n",
       "      <td>NaN</td>\n",
       "      <td>2020-02-19</td>\n",
       "      <td>deceased</td>\n",
       "      <td>63.0</td>\n",
       "      <td>-1 days</td>\n",
       "    </tr>\n",
       "    <tr>\n",
       "      <th>106</th>\n",
       "      <td>107</td>\n",
       "      <td>male</td>\n",
       "      <td>1953.0</td>\n",
       "      <td>Korea</td>\n",
       "      <td>Gyeongsangbuk-do</td>\n",
       "      <td>1.0</td>\n",
       "      <td>Cheongdo Daenam Hospital</td>\n",
       "      <td>NaN</td>\n",
       "      <td>NaN</td>\n",
       "      <td>NaN</td>\n",
       "      <td>NaN</td>\n",
       "      <td>2020-02-21</td>\n",
       "      <td>NaN</td>\n",
       "      <td>2020-02-24</td>\n",
       "      <td>deceased</td>\n",
       "      <td>67.0</td>\n",
       "      <td>3 days</td>\n",
       "    </tr>\n",
       "  </tbody>\n",
       "</table>\n",
       "</div>"
      ],
      "text/plain": [
       "      id     sex  birth_year country            region  disease  \\\n",
       "37    38  female      1963.0   Korea             Daegu      1.0   \n",
       "53    54    male      1963.0   Korea  Gyeongsangbuk-do      1.0   \n",
       "54    55    male      1961.0   Korea  Gyeongsangbuk-do      1.0   \n",
       "103  104    male      1957.0   Korea  Gyeongsangbuk-do      1.0   \n",
       "106  107    male      1953.0   Korea  Gyeongsangbuk-do      1.0   \n",
       "\n",
       "                        group infection_reason  infection_order  infected_by  \\\n",
       "37                        NaN              NaN              NaN          NaN   \n",
       "53   Cheongdo Daenam Hospital              NaN              NaN          NaN   \n",
       "54   Cheongdo Daenam Hospital              NaN              NaN          NaN   \n",
       "103  Cheongdo Daenam Hospital              NaN              NaN          NaN   \n",
       "106  Cheongdo Daenam Hospital              NaN              NaN          NaN   \n",
       "\n",
       "     contact_number confirmed_date released_date deceased_date     state  \\\n",
       "37              NaN     2020-02-18           NaN    2020-02-23  deceased   \n",
       "53              NaN     2020-02-19           NaN    2020-02-23  deceased   \n",
       "54              NaN     2020-02-19           NaN    2020-02-23  deceased   \n",
       "103             NaN     2020-02-20           NaN    2020-02-19  deceased   \n",
       "106             NaN     2020-02-21           NaN    2020-02-24  deceased   \n",
       "\n",
       "      age no_of_days_survived  \n",
       "37   57.0              5 days  \n",
       "53   57.0              4 days  \n",
       "54   59.0              4 days  \n",
       "103  63.0             -1 days  \n",
       "106  67.0              3 days  "
      ]
     },
     "execution_count": 83,
     "metadata": {},
     "output_type": "execute_result"
    }
   ],
   "source": [
    "for i in date_column:\n",
    "    deceased[i] = pd.to_datetime(deceased[i])\n",
    "deceased[\"no_of_days_survived\"] = deceased[\"deceased_date\"] - deceased[\"confirmed_date\"]\n",
    "deceased.head(5)"
   ]
  },
  {
   "cell_type": "code",
   "execution_count": 84,
   "metadata": {},
   "outputs": [
    {
     "data": {
      "text/html": [
       "<div>\n",
       "<style scoped>\n",
       "    .dataframe tbody tr th:only-of-type {\n",
       "        vertical-align: middle;\n",
       "    }\n",
       "\n",
       "    .dataframe tbody tr th {\n",
       "        vertical-align: top;\n",
       "    }\n",
       "\n",
       "    .dataframe thead th {\n",
       "        text-align: right;\n",
       "    }\n",
       "</style>\n",
       "<table border=\"1\" class=\"dataframe\">\n",
       "  <thead>\n",
       "    <tr style=\"text-align: right;\">\n",
       "      <th></th>\n",
       "      <th>id</th>\n",
       "      <th>sex</th>\n",
       "      <th>birth_year</th>\n",
       "      <th>country</th>\n",
       "      <th>region</th>\n",
       "      <th>disease</th>\n",
       "      <th>group</th>\n",
       "      <th>infection_reason</th>\n",
       "      <th>infection_order</th>\n",
       "      <th>infected_by</th>\n",
       "      <th>contact_number</th>\n",
       "      <th>confirmed_date</th>\n",
       "      <th>released_date</th>\n",
       "      <th>deceased_date</th>\n",
       "      <th>state</th>\n",
       "      <th>age</th>\n",
       "      <th>no_of_days_treated</th>\n",
       "    </tr>\n",
       "  </thead>\n",
       "  <tbody>\n",
       "    <tr>\n",
       "      <th>0</th>\n",
       "      <td>1</td>\n",
       "      <td>female</td>\n",
       "      <td>1984.0</td>\n",
       "      <td>China</td>\n",
       "      <td>filtered at airport</td>\n",
       "      <td>NaN</td>\n",
       "      <td>NaN</td>\n",
       "      <td>visit to Wuhan</td>\n",
       "      <td>1.0</td>\n",
       "      <td>NaN</td>\n",
       "      <td>45.0</td>\n",
       "      <td>2020-01-20</td>\n",
       "      <td>2020-02-06</td>\n",
       "      <td>NaN</td>\n",
       "      <td>released</td>\n",
       "      <td>36.0</td>\n",
       "      <td>17 days</td>\n",
       "    </tr>\n",
       "    <tr>\n",
       "      <th>1</th>\n",
       "      <td>2</td>\n",
       "      <td>male</td>\n",
       "      <td>1964.0</td>\n",
       "      <td>Korea</td>\n",
       "      <td>filtered at airport</td>\n",
       "      <td>NaN</td>\n",
       "      <td>NaN</td>\n",
       "      <td>visit to Wuhan</td>\n",
       "      <td>1.0</td>\n",
       "      <td>NaN</td>\n",
       "      <td>75.0</td>\n",
       "      <td>2020-01-24</td>\n",
       "      <td>2020-02-05</td>\n",
       "      <td>NaN</td>\n",
       "      <td>released</td>\n",
       "      <td>56.0</td>\n",
       "      <td>12 days</td>\n",
       "    </tr>\n",
       "    <tr>\n",
       "      <th>2</th>\n",
       "      <td>3</td>\n",
       "      <td>male</td>\n",
       "      <td>1966.0</td>\n",
       "      <td>Korea</td>\n",
       "      <td>capital area</td>\n",
       "      <td>NaN</td>\n",
       "      <td>NaN</td>\n",
       "      <td>visit to Wuhan</td>\n",
       "      <td>1.0</td>\n",
       "      <td>NaN</td>\n",
       "      <td>16.0</td>\n",
       "      <td>2020-01-26</td>\n",
       "      <td>2020-02-12</td>\n",
       "      <td>NaN</td>\n",
       "      <td>released</td>\n",
       "      <td>54.0</td>\n",
       "      <td>17 days</td>\n",
       "    </tr>\n",
       "    <tr>\n",
       "      <th>3</th>\n",
       "      <td>4</td>\n",
       "      <td>male</td>\n",
       "      <td>1964.0</td>\n",
       "      <td>Korea</td>\n",
       "      <td>capital area</td>\n",
       "      <td>NaN</td>\n",
       "      <td>NaN</td>\n",
       "      <td>visit to Wuhan</td>\n",
       "      <td>1.0</td>\n",
       "      <td>NaN</td>\n",
       "      <td>95.0</td>\n",
       "      <td>2020-01-27</td>\n",
       "      <td>2020-02-09</td>\n",
       "      <td>NaN</td>\n",
       "      <td>released</td>\n",
       "      <td>56.0</td>\n",
       "      <td>13 days</td>\n",
       "    </tr>\n",
       "    <tr>\n",
       "      <th>4</th>\n",
       "      <td>5</td>\n",
       "      <td>male</td>\n",
       "      <td>1987.0</td>\n",
       "      <td>Korea</td>\n",
       "      <td>capital area</td>\n",
       "      <td>NaN</td>\n",
       "      <td>NaN</td>\n",
       "      <td>visit to Wuhan</td>\n",
       "      <td>1.0</td>\n",
       "      <td>NaN</td>\n",
       "      <td>31.0</td>\n",
       "      <td>2020-01-30</td>\n",
       "      <td>2020-03-02</td>\n",
       "      <td>NaN</td>\n",
       "      <td>released</td>\n",
       "      <td>33.0</td>\n",
       "      <td>32 days</td>\n",
       "    </tr>\n",
       "  </tbody>\n",
       "</table>\n",
       "</div>"
      ],
      "text/plain": [
       "   id     sex  birth_year country               region  disease group  \\\n",
       "0   1  female      1984.0   China  filtered at airport      NaN   NaN   \n",
       "1   2    male      1964.0   Korea  filtered at airport      NaN   NaN   \n",
       "2   3    male      1966.0   Korea         capital area      NaN   NaN   \n",
       "3   4    male      1964.0   Korea         capital area      NaN   NaN   \n",
       "4   5    male      1987.0   Korea         capital area      NaN   NaN   \n",
       "\n",
       "  infection_reason  infection_order  infected_by  contact_number  \\\n",
       "0   visit to Wuhan              1.0          NaN            45.0   \n",
       "1   visit to Wuhan              1.0          NaN            75.0   \n",
       "2   visit to Wuhan              1.0          NaN            16.0   \n",
       "3   visit to Wuhan              1.0          NaN            95.0   \n",
       "4   visit to Wuhan              1.0          NaN            31.0   \n",
       "\n",
       "  confirmed_date released_date deceased_date     state   age  \\\n",
       "0     2020-01-20    2020-02-06           NaN  released  36.0   \n",
       "1     2020-01-24    2020-02-05           NaN  released  56.0   \n",
       "2     2020-01-26    2020-02-12           NaN  released  54.0   \n",
       "3     2020-01-27    2020-02-09           NaN  released  56.0   \n",
       "4     2020-01-30    2020-03-02           NaN  released  33.0   \n",
       "\n",
       "  no_of_days_treated  \n",
       "0            17 days  \n",
       "1            12 days  \n",
       "2            17 days  \n",
       "3            13 days  \n",
       "4            32 days  "
      ]
     },
     "execution_count": 84,
     "metadata": {},
     "output_type": "execute_result"
    }
   ],
   "source": [
    "#Adding one more feature to deceased dataset which will contain the number of days patient was admitted before discharged.\n",
    "date_column = [\"confirmed_date\",\"released_date\"]\n",
    "for i in date_column:\n",
    "    released[i] = pd.to_datetime(released[i])\n",
    "released[\"no_of_days_treated\"] = released[\"released_date\"] - released[\"confirmed_date\"]\n",
    "released.head(5)"
   ]
  },
  {
   "cell_type": "code",
   "execution_count": 85,
   "metadata": {},
   "outputs": [
    {
     "name": "stdout",
     "output_type": "stream",
     "text": [
      "The percentage of released patient is:  0.7449546254909928\n",
      "The percentage of deceased patient is:  0.4198835161858323\n",
      "The percentage of isolated patient is:  98.82161722876879\n"
     ]
    }
   ],
   "source": [
    "print('The percentage of released patient is: ',(len(released) * 100) / len(patient))\n",
    "print('The percentage of deceased patient is: ',(len(deceased) * 100) / len(patient))\n",
    "print('The percentage of isolated patient is: ',(len(isolated) * 100) / len(patient))"
   ]
  },
  {
   "cell_type": "code",
   "execution_count": 94,
   "metadata": {},
   "outputs": [],
   "source": [
    "state = 'Isolated', 'Released', 'Deceased'"
   ]
  },
  {
   "cell_type": "code",
   "execution_count": 95,
   "metadata": {},
   "outputs": [
    {
     "data": {
      "text/plain": [
       "tuple"
      ]
     },
     "execution_count": 95,
     "metadata": {},
     "output_type": "execute_result"
    }
   ],
   "source": [
    "type(state)"
   ]
  },
  {
   "cell_type": "code",
   "execution_count": 96,
   "metadata": {},
   "outputs": [],
   "source": [
    "sizes = [(len(isolated) * 100) / len(patient),(len(released) * 100) / len(patient),(len(deceased) * 100) / len(patient)]"
   ]
  },
  {
   "cell_type": "code",
   "execution_count": 97,
   "metadata": {},
   "outputs": [
    {
     "data": {
      "text/plain": [
       "[98.82161722876879, 0.7449546254909928, 0.4198835161858323]"
      ]
     },
     "execution_count": 97,
     "metadata": {},
     "output_type": "execute_result"
    }
   ],
   "source": [
    "sizes"
   ]
  },
  {
   "cell_type": "code",
   "execution_count": 98,
   "metadata": {},
   "outputs": [],
   "source": [
    "explode = (0,1,2)"
   ]
  },
  {
   "cell_type": "code",
   "execution_count": 99,
   "metadata": {},
   "outputs": [
    {
     "data": {
      "text/plain": [
       "(0, 1, 2)"
      ]
     },
     "execution_count": 99,
     "metadata": {},
     "output_type": "execute_result"
    }
   ],
   "source": [
    "explode"
   ]
  },
  {
   "cell_type": "code",
   "execution_count": 100,
   "metadata": {},
   "outputs": [
    {
     "data": {
      "image/png": "[encoded data removed]",
      "text/plain": [
       "<Figure size 432x288 with 1 Axes>"
      ]
     },
     "metadata": {},
     "output_type": "display_data"
    }
   ],
   "source": [
    "fig, ax = plt.subplots()\n",
    "ax.pie(sizes, explode=explode, labels=state, autopct='%.2f%%',\n",
    "        shadow=False, startangle=30)\n",
    "ax.axis('equal')\n",
    "plt.legend()\n",
    "plt.title('Pie Chart')\n",
    "plt.show()"
   ]
  },
  {
   "cell_type": "code",
   "execution_count": 101,
   "metadata": {},
   "outputs": [
    {
     "data": {
      "image/png": "[encoded data removed]",
      "text/plain": [
       "<Figure size 439.5x360 with 1 Axes>"
      ]
     },
     "metadata": {},
     "output_type": "display_data"
    }
   ],
   "source": [
    "sns.FacetGrid(patient, hue=\"state\", size = 5).map(sns.distplot, \"age\").add_legend()\n",
    "plt.title('PDF with age')\n",
    "plt.grid()\n",
    "plt.show()"
   ]
  },
  {
   "cell_type": "code",
   "execution_count": 102,
   "metadata": {},
   "outputs": [
    {
     "data": {
      "image/png": "[encoded data removed]",
      "text/plain": [
       "<Figure size 432x288 with 1 Axes>"
      ]
     },
     "metadata": {},
     "output_type": "display_data"
    }
   ],
   "source": [
    "counts, bin_edges = np.histogram(deceased['age'], bins=10, density = True)\n",
    "pdf = counts/(sum(counts))\n",
    "cdf = np.cumsum(pdf)\n",
    "plt.plot(bin_edges[1:], pdf)\n",
    "plt.plot(bin_edges[1:], cdf, label = 'Death')\n",
    "\n",
    "counts, bin_edges = np.histogram(released['age'], bins=10, density = True)\n",
    "pdf = counts/(sum(counts))\n",
    "cdf = np.cumsum(pdf)\n",
    "plt.plot(bin_edges[1:], pdf)\n",
    "plt.plot(bin_edges[1:], cdf, label = 'Recovered')\n",
    "\n",
    "plt.xlabel('Age of patient')\n",
    "plt.ylabel('Percentage')\n",
    "plt.legend()\n",
    "plt.grid()\n",
    "plt.show()"
   ]
  },
  {
   "cell_type": "code",
   "execution_count": 107,
   "metadata": {},
   "outputs": [
    {
     "name": "stdout",
     "output_type": "stream",
     "text": [
      "isolated    7296\n",
      "released      55\n",
      "deceased      31\n",
      "Name: state, dtype: int64\n"
     ]
    },
    {
     "data": {
      "image/png": "[encoded data removed]",
      "text/plain": [
       "<Figure size 432x288 with 1 Axes>"
      ]
     },
     "metadata": {},
     "output_type": "display_data"
    }
   ],
   "source": [
    "patient.state.value_counts().plot.bar()\n",
    "print(patient.state.value_counts())"
   ]
  },
  {
   "cell_type": "code",
   "execution_count": 108,
   "metadata": {},
   "outputs": [
    {
     "data": {
      "text/plain": [
       "<matplotlib.axes._subplots.AxesSubplot at 0x2130b9fe748>"
      ]
     },
     "execution_count": 108,
     "metadata": {},
     "output_type": "execute_result"
    },
    {
     "data": {
      "image/png": "[encoded data removed]",
      "text/plain": [
       "<Figure size 432x288 with 1 Axes>"
      ]
     },
     "metadata": {},
     "output_type": "display_data"
    }
   ],
   "source": [
    "sns.countplot(x=\"sex\", hue=\"state\", data=patient)"
   ]
  },
  {
   "cell_type": "code",
   "execution_count": 111,
   "metadata": {},
   "outputs": [
    {
     "data": {
      "image/png": "[encoded data removed]",
      "text/plain": [
       "<Figure size 432x288 with 1 Axes>"
      ]
     },
     "metadata": {},
     "output_type": "display_data"
    },
    {
     "data": {
      "image/png": "[encoded data removed]",
      "text/plain": [
       "<Figure size 432x288 with 1 Axes>"
      ]
     },
     "metadata": {},
     "output_type": "display_data"
    }
   ],
   "source": [
    "sns.boxplot(x = 'state',y = 'age', data = patient)\n",
    "plt.title('Box plot of age')\n",
    "plt.grid()\n",
    "plt.show()\n",
    "\n",
    "sns.violinplot(x = 'state', y= 'age', data = patient, size = 4)\n",
    "plt.title('Violin plot of age')\n",
    "plt.grid()\n",
    "plt.show()"
   ]
  },
  {
   "cell_type": "code",
   "execution_count": 115,
   "metadata": {},
   "outputs": [
    {
     "data": {
      "text/plain": [
       "<matplotlib.axes._subplots.AxesSubplot at 0x2130c0ed5f8>"
      ]
     },
     "execution_count": 115,
     "metadata": {},
     "output_type": "execute_result"
    },
    {
     "data": {
      "image/png": "[encoded data removed]",
      "text/plain": [
       "<Figure size 720x360 with 1 Axes>"
      ]
     },
     "metadata": {},
     "output_type": "display_data"
    }
   ],
   "source": [
    "# Since the number of confirmed patients exceeds 550, KCDC is not updated patient's region data. \n",
    "plt.figure(figsize=(10,5))\n",
    "patient.region.value_counts().plot.bar()"
   ]
  },
  {
   "cell_type": "code",
   "execution_count": 114,
   "metadata": {},
   "outputs": [
    {
     "data": {
      "text/plain": [
       "<matplotlib.axes._subplots.AxesSubplot at 0x2130bf9d908>"
      ]
     },
     "execution_count": 114,
     "metadata": {},
     "output_type": "execute_result"
    },
    {
     "data": {
      "image/png": "[encoded data removed]",
      "text/plain": [
       "<Figure size 1080x360 with 1 Axes>"
      ]
     },
     "metadata": {},
     "output_type": "display_data"
    }
   ],
   "source": [
    "plt.figure(figsize=(15,5))\n",
    "patient.infected_by.value_counts().plot.bar()"
   ]
  },
  {
   "cell_type": "code",
   "execution_count": 66,
   "metadata": {},
   "outputs": [
    {
     "data": {
      "text/plain": [
       "<matplotlib.axes._subplots.AxesSubplot at 0x213071369e8>"
      ]
     },
     "execution_count": 66,
     "metadata": {},
     "output_type": "execute_result"
    },
    {
     "data": {
      "image/png": "[encoded data removed]",
      "text/plain": [
       "<Figure size 1080x360 with 1 Axes>"
      ]
     },
     "metadata": {},
     "output_type": "display_data"
    }
   ],
   "source": [
    "plt.figure(figsize=(15,5))\n",
    "patient.confirmed_date.value_counts().plot.bar()"
   ]
  },
  {
   "cell_type": "code",
   "execution_count": 68,
   "metadata": {},
   "outputs": [
    {
     "data": {
      "text/plain": [
       "<matplotlib.axes._subplots.AxesSubplot at 0x21306c084a8>"
      ]
     },
     "execution_count": 68,
     "metadata": {},
     "output_type": "execute_result"
    },
    {
     "data": {
      "image/png": "[encoded data removed]",
      "text/plain": [
       "<Figure size 720x360 with 1 Axes>"
      ]
     },
     "metadata": {},
     "output_type": "display_data"
    }
   ],
   "source": [
    "plt.figure(figsize=(10,5))\n",
    "patient.released_date.value_counts().plot.bar()"
   ]
  },
  {
   "cell_type": "code",
   "execution_count": 69,
   "metadata": {},
   "outputs": [
    {
     "data": {
      "text/plain": [
       "<matplotlib.axes._subplots.AxesSubplot at 0x213071dd128>"
      ]
     },
     "execution_count": 69,
     "metadata": {},
     "output_type": "execute_result"
    },
    {
     "data": {
      "image/png": "[encoded data removed]",
      "text/plain": [
       "<Figure size 720x360 with 1 Axes>"
      ]
     },
     "metadata": {},
     "output_type": "display_data"
    }
   ],
   "source": [
    "plt.figure(figsize=(10,5))\n",
    "patient.deceased_date.value_counts().plot.bar()"
   ]
  },
  {
   "cell_type": "code",
   "execution_count": 70,
   "metadata": {},
   "outputs": [
    {
     "data": {
      "image/png": "[encoded data removed]",
      "text/plain": [
       "<Figure size 583.5x504 with 1 Axes>"
      ]
     },
     "metadata": {},
     "output_type": "display_data"
    }
   ],
   "source": [
    "sns.set_style(\"whitegrid\")\n",
    "sns.FacetGrid(patient, hue = 'state', size = 7).map(plt.scatter, 'age', 'region').add_legend()\n",
    "plt.title('Scatter plot : region vs age')\n",
    "plt.show()"
   ]
  },
  {
   "cell_type": "code",
   "execution_count": null,
   "metadata": {},
   "outputs": [],
   "source": []
  }
 ],
 "metadata": {
  "kernelspec": {
   "display_name": "Python 3",
   "language": "python",
   "name": "python3"
  },
  "language_info": {
   "codemirror_mode": {
    "name": "ipython",
    "version": 3
   },
   "file_extension": ".py",
   "mimetype": "text/x-python",
   "name": "python",
   "nbconvert_exporter": "python",
   "pygments_lexer": "ipython3",
   "version": "3.6.4"
  }
 },
 "nbformat": 4,
 "nbformat_minor": 2
}
