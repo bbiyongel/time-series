{
 "cells": [
  {
   "cell_type": "code",
   "execution_count": 18,
   "metadata": {},
   "outputs": [],
   "source": [
    "import json\n",
    "import os\n",
    "from bs4 import BeautifulSoup as BS\n",
    "import re\n",
    "import requests\n",
    "import pandas as pd"
   ]
  },
  {
   "cell_type": "code",
   "execution_count": 3,
   "metadata": {},
   "outputs": [],
   "source": [
    "main_url = \"https://finance.naver.com/item/news_news.nhn?code=\"\n",
    "# \"005930&page=1&sm=title_entity_id.basic&clusterId=\""
   ]
  },
  {
   "cell_type": "code",
   "execution_count": 4,
   "metadata": {},
   "outputs": [],
   "source": [
    "com_code = \"005930\""
   ]
  },
  {
   "cell_type": "code",
   "execution_count": 6,
   "metadata": {},
   "outputs": [
    {
     "name": "stdout",
     "output_type": "stream",
     "text": [
      "https://finance.naver.com/item/news_news.nhn?code=005930&page=1&sm=title_entity_id.basic&clusterId=\n",
      "https://finance.naver.com/item/news_news.nhn?code=005930&page=2&sm=title_entity_id.basic&clusterId=\n",
      "https://finance.naver.com/item/news_news.nhn?code=005930&page=3&sm=title_entity_id.basic&clusterId=\n",
      "https://finance.naver.com/item/news_news.nhn?code=005930&page=4&sm=title_entity_id.basic&clusterId=\n",
      "https://finance.naver.com/item/news_news.nhn?code=005930&page=5&sm=title_entity_id.basic&clusterId=\n",
      "https://finance.naver.com/item/news_news.nhn?code=005930&page=6&sm=title_entity_id.basic&clusterId=\n",
      "https://finance.naver.com/item/news_news.nhn?code=005930&page=7&sm=title_entity_id.basic&clusterId=\n",
      "https://finance.naver.com/item/news_news.nhn?code=005930&page=8&sm=title_entity_id.basic&clusterId=\n",
      "https://finance.naver.com/item/news_news.nhn?code=005930&page=9&sm=title_entity_id.basic&clusterId=\n",
      "https://finance.naver.com/item/news_news.nhn?code=005930&page=10&sm=title_entity_id.basic&clusterId=\n",
      "https://finance.naver.com/item/news_news.nhn?code=005930&page=11&sm=title_entity_id.basic&clusterId=\n",
      "https://finance.naver.com/item/news_news.nhn?code=005930&page=12&sm=title_entity_id.basic&clusterId=\n",
      "https://finance.naver.com/item/news_news.nhn?code=005930&page=13&sm=title_entity_id.basic&clusterId=\n",
      "https://finance.naver.com/item/news_news.nhn?code=005930&page=14&sm=title_entity_id.basic&clusterId=\n",
      "https://finance.naver.com/item/news_news.nhn?code=005930&page=15&sm=title_entity_id.basic&clusterId=\n",
      "https://finance.naver.com/item/news_news.nhn?code=005930&page=16&sm=title_entity_id.basic&clusterId=\n",
      "https://finance.naver.com/item/news_news.nhn?code=005930&page=17&sm=title_entity_id.basic&clusterId=\n",
      "https://finance.naver.com/item/news_news.nhn?code=005930&page=18&sm=title_entity_id.basic&clusterId=\n",
      "https://finance.naver.com/item/news_news.nhn?code=005930&page=19&sm=title_entity_id.basic&clusterId=\n",
      "https://finance.naver.com/item/news_news.nhn?code=005930&page=20&sm=title_entity_id.basic&clusterId=\n",
      "https://finance.naver.com/item/news_news.nhn?code=005930&page=21&sm=title_entity_id.basic&clusterId=\n",
      "https://finance.naver.com/item/news_news.nhn?code=005930&page=22&sm=title_entity_id.basic&clusterId=\n",
      "https://finance.naver.com/item/news_news.nhn?code=005930&page=23&sm=title_entity_id.basic&clusterId=\n",
      "https://finance.naver.com/item/news_news.nhn?code=005930&page=24&sm=title_entity_id.basic&clusterId=\n",
      "https://finance.naver.com/item/news_news.nhn?code=005930&page=25&sm=title_entity_id.basic&clusterId=\n",
      "https://finance.naver.com/item/news_news.nhn?code=005930&page=26&sm=title_entity_id.basic&clusterId=\n",
      "https://finance.naver.com/item/news_news.nhn?code=005930&page=27&sm=title_entity_id.basic&clusterId=\n",
      "https://finance.naver.com/item/news_news.nhn?code=005930&page=28&sm=title_entity_id.basic&clusterId=\n",
      "https://finance.naver.com/item/news_news.nhn?code=005930&page=29&sm=title_entity_id.basic&clusterId=\n",
      "https://finance.naver.com/item/news_news.nhn?code=005930&page=30&sm=title_entity_id.basic&clusterId=\n",
      "https://finance.naver.com/item/news_news.nhn?code=005930&page=31&sm=title_entity_id.basic&clusterId=\n",
      "https://finance.naver.com/item/news_news.nhn?code=005930&page=32&sm=title_entity_id.basic&clusterId=\n",
      "https://finance.naver.com/item/news_news.nhn?code=005930&page=33&sm=title_entity_id.basic&clusterId=\n",
      "https://finance.naver.com/item/news_news.nhn?code=005930&page=34&sm=title_entity_id.basic&clusterId=\n",
      "https://finance.naver.com/item/news_news.nhn?code=005930&page=35&sm=title_entity_id.basic&clusterId=\n",
      "https://finance.naver.com/item/news_news.nhn?code=005930&page=36&sm=title_entity_id.basic&clusterId=\n",
      "https://finance.naver.com/item/news_news.nhn?code=005930&page=37&sm=title_entity_id.basic&clusterId=\n",
      "https://finance.naver.com/item/news_news.nhn?code=005930&page=38&sm=title_entity_id.basic&clusterId=\n",
      "https://finance.naver.com/item/news_news.nhn?code=005930&page=39&sm=title_entity_id.basic&clusterId=\n",
      "https://finance.naver.com/item/news_news.nhn?code=005930&page=40&sm=title_entity_id.basic&clusterId=\n",
      "https://finance.naver.com/item/news_news.nhn?code=005930&page=41&sm=title_entity_id.basic&clusterId=\n",
      "https://finance.naver.com/item/news_news.nhn?code=005930&page=42&sm=title_entity_id.basic&clusterId=\n",
      "https://finance.naver.com/item/news_news.nhn?code=005930&page=43&sm=title_entity_id.basic&clusterId=\n",
      "https://finance.naver.com/item/news_news.nhn?code=005930&page=44&sm=title_entity_id.basic&clusterId=\n",
      "https://finance.naver.com/item/news_news.nhn?code=005930&page=45&sm=title_entity_id.basic&clusterId=\n",
      "https://finance.naver.com/item/news_news.nhn?code=005930&page=46&sm=title_entity_id.basic&clusterId=\n",
      "https://finance.naver.com/item/news_news.nhn?code=005930&page=47&sm=title_entity_id.basic&clusterId=\n",
      "https://finance.naver.com/item/news_news.nhn?code=005930&page=48&sm=title_entity_id.basic&clusterId=\n",
      "https://finance.naver.com/item/news_news.nhn?code=005930&page=49&sm=title_entity_id.basic&clusterId=\n",
      "https://finance.naver.com/item/news_news.nhn?code=005930&page=50&sm=title_entity_id.basic&clusterId=\n",
      "https://finance.naver.com/item/news_news.nhn?code=005930&page=51&sm=title_entity_id.basic&clusterId=\n",
      "https://finance.naver.com/item/news_news.nhn?code=005930&page=52&sm=title_entity_id.basic&clusterId=\n",
      "https://finance.naver.com/item/news_news.nhn?code=005930&page=53&sm=title_entity_id.basic&clusterId=\n",
      "https://finance.naver.com/item/news_news.nhn?code=005930&page=54&sm=title_entity_id.basic&clusterId=\n",
      "https://finance.naver.com/item/news_news.nhn?code=005930&page=55&sm=title_entity_id.basic&clusterId=\n",
      "https://finance.naver.com/item/news_news.nhn?code=005930&page=56&sm=title_entity_id.basic&clusterId=\n",
      "https://finance.naver.com/item/news_news.nhn?code=005930&page=57&sm=title_entity_id.basic&clusterId=\n",
      "https://finance.naver.com/item/news_news.nhn?code=005930&page=58&sm=title_entity_id.basic&clusterId=\n",
      "https://finance.naver.com/item/news_news.nhn?code=005930&page=59&sm=title_entity_id.basic&clusterId=\n",
      "https://finance.naver.com/item/news_news.nhn?code=005930&page=60&sm=title_entity_id.basic&clusterId=\n",
      "https://finance.naver.com/item/news_news.nhn?code=005930&page=61&sm=title_entity_id.basic&clusterId=\n",
      "https://finance.naver.com/item/news_news.nhn?code=005930&page=62&sm=title_entity_id.basic&clusterId=\n",
      "https://finance.naver.com/item/news_news.nhn?code=005930&page=63&sm=title_entity_id.basic&clusterId=\n",
      "https://finance.naver.com/item/news_news.nhn?code=005930&page=64&sm=title_entity_id.basic&clusterId=\n",
      "https://finance.naver.com/item/news_news.nhn?code=005930&page=65&sm=title_entity_id.basic&clusterId=\n",
      "https://finance.naver.com/item/news_news.nhn?code=005930&page=66&sm=title_entity_id.basic&clusterId=\n",
      "https://finance.naver.com/item/news_news.nhn?code=005930&page=67&sm=title_entity_id.basic&clusterId=\n",
      "https://finance.naver.com/item/news_news.nhn?code=005930&page=68&sm=title_entity_id.basic&clusterId=\n",
      "https://finance.naver.com/item/news_news.nhn?code=005930&page=69&sm=title_entity_id.basic&clusterId=\n",
      "https://finance.naver.com/item/news_news.nhn?code=005930&page=70&sm=title_entity_id.basic&clusterId=\n",
      "https://finance.naver.com/item/news_news.nhn?code=005930&page=71&sm=title_entity_id.basic&clusterId=\n",
      "https://finance.naver.com/item/news_news.nhn?code=005930&page=72&sm=title_entity_id.basic&clusterId=\n",
      "https://finance.naver.com/item/news_news.nhn?code=005930&page=73&sm=title_entity_id.basic&clusterId=\n",
      "https://finance.naver.com/item/news_news.nhn?code=005930&page=74&sm=title_entity_id.basic&clusterId=\n",
      "https://finance.naver.com/item/news_news.nhn?code=005930&page=75&sm=title_entity_id.basic&clusterId=\n",
      "https://finance.naver.com/item/news_news.nhn?code=005930&page=76&sm=title_entity_id.basic&clusterId=\n",
      "https://finance.naver.com/item/news_news.nhn?code=005930&page=77&sm=title_entity_id.basic&clusterId=\n",
      "https://finance.naver.com/item/news_news.nhn?code=005930&page=78&sm=title_entity_id.basic&clusterId=\n",
      "https://finance.naver.com/item/news_news.nhn?code=005930&page=79&sm=title_entity_id.basic&clusterId=\n",
      "https://finance.naver.com/item/news_news.nhn?code=005930&page=80&sm=title_entity_id.basic&clusterId=\n",
      "https://finance.naver.com/item/news_news.nhn?code=005930&page=81&sm=title_entity_id.basic&clusterId=\n",
      "https://finance.naver.com/item/news_news.nhn?code=005930&page=82&sm=title_entity_id.basic&clusterId=\n",
      "https://finance.naver.com/item/news_news.nhn?code=005930&page=83&sm=title_entity_id.basic&clusterId=\n",
      "https://finance.naver.com/item/news_news.nhn?code=005930&page=84&sm=title_entity_id.basic&clusterId=\n",
      "https://finance.naver.com/item/news_news.nhn?code=005930&page=85&sm=title_entity_id.basic&clusterId=\n",
      "https://finance.naver.com/item/news_news.nhn?code=005930&page=86&sm=title_entity_id.basic&clusterId=\n",
      "https://finance.naver.com/item/news_news.nhn?code=005930&page=87&sm=title_entity_id.basic&clusterId=\n",
      "https://finance.naver.com/item/news_news.nhn?code=005930&page=88&sm=title_entity_id.basic&clusterId=\n",
      "https://finance.naver.com/item/news_news.nhn?code=005930&page=89&sm=title_entity_id.basic&clusterId=\n",
      "https://finance.naver.com/item/news_news.nhn?code=005930&page=90&sm=title_entity_id.basic&clusterId=\n",
      "https://finance.naver.com/item/news_news.nhn?code=005930&page=91&sm=title_entity_id.basic&clusterId=\n",
      "https://finance.naver.com/item/news_news.nhn?code=005930&page=92&sm=title_entity_id.basic&clusterId=\n",
      "https://finance.naver.com/item/news_news.nhn?code=005930&page=93&sm=title_entity_id.basic&clusterId=\n",
      "https://finance.naver.com/item/news_news.nhn?code=005930&page=94&sm=title_entity_id.basic&clusterId=\n",
      "https://finance.naver.com/item/news_news.nhn?code=005930&page=95&sm=title_entity_id.basic&clusterId=\n",
      "https://finance.naver.com/item/news_news.nhn?code=005930&page=96&sm=title_entity_id.basic&clusterId=\n",
      "https://finance.naver.com/item/news_news.nhn?code=005930&page=97&sm=title_entity_id.basic&clusterId=\n",
      "https://finance.naver.com/item/news_news.nhn?code=005930&page=98&sm=title_entity_id.basic&clusterId=\n",
      "https://finance.naver.com/item/news_news.nhn?code=005930&page=99&sm=title_entity_id.basic&clusterId=\n"
     ]
    }
   ],
   "source": [
    "for i in range(1,100):\n",
    "    \n",
    "    url_full = main_url + com_code +\"&page=\"+str(i)+\"&sm=title_entity_id.basic&clusterId=\"\n",
    "    \n",
    "    r = requests.get(r_url)\n",
    "\n",
    "    soup = BeautifulSoup(r.text, \"html\")\n",
    "    \n",
    "    #news = soup.find('div', class_='newsSchResult').find('dl', class_='newsList')\n",
    "    #news_title = news.find_all('dt', class_='articleSubject')\n",
    "    #news_summary = news.find_all('dd', class_='articleSummary')\n",
    "    #print(url_full)"
   ]
  },
  {
   "cell_type": "code",
   "execution_count": 7,
   "metadata": {},
   "outputs": [],
   "source": [
    "url = \"https://finance.naver.com/item/news_news.nhn?code=005930&page=1&sm=title_entity_id.basic&clusterId=\""
   ]
  },
  {
   "cell_type": "code",
   "execution_count": 21,
   "metadata": {},
   "outputs": [],
   "source": [
    "r = requests.get(url)\n",
    "html = BS(r.text, \"html.parser\")"
   ]
  },
  {
   "cell_type": "code",
   "execution_count": 22,
   "metadata": {},
   "outputs": [
    {
     "data": {
      "text/plain": [
       "\n",
       "<html lang=\"ko\">\n",
       "<head>\n",
       "<meta content=\"text/html; charset=utf-8\" http-equiv=\"Content-Type\"/>\n",
       "<title>네이버 금융</title>\n",
       "<link href=\"/css/newstock.css?20200305144822\" rel=\"stylesheet\" type=\"text/css\"/>\n",
       "<link href=\"/css/common.css?20200305144822\" rel=\"stylesheet\" type=\"text/css\"/>\n",
       "<link href=\"/css/layout.css?20200305144822\" rel=\"stylesheet\" type=\"text/css\"/>\n",
       "<link href=\"/css/main.css?20200305144822\" rel=\"stylesheet\" type=\"text/css\"/>\n",
       "<link href=\"/css/newstock2.css?20200305144822\" rel=\"stylesheet\" type=\"text/css\"/>\n",
       "<link href=\"/css/newstock3.css?20200305144822\" rel=\"stylesheet\" type=\"text/css\"/>\n",
       "<link href=\"/css/world.css?20200305144822\" rel=\"stylesheet\" type=\"text/css\"/>\n",
       "</head>\n",
       "<body>\n",
       "<script src=\"/js/jindo.min.ns.1.5.3.euckr.js?20200305144822\" type=\"text/javascript\"></script>\n",
       "<script language=\"JavaScript\">\n",
       "document.domain=\"naver.com\";\n",
       "var nsc=\"finance.stockend\";\n",
       "\n",
       "function mouseOver(obj){\n",
       "  obj.style.backgroundColor=\"#f6f4e5\";\n",
       "}\n",
       "function mouseOut(obj){\n",
       "  obj.style.backgroundColor=\"#ffffff\";\n",
       "}\n",
       "function showPannel(layerId){\n",
       "\tvar layer = jindo.$(layerId);\n",
       "\tlayer.style.display='block';\n",
       "\t\n",
       "\tif (layerId == \"summary_lyr\") {\n",
       "\t\tvar layerHeight = jindo.$Element(layer).height();\n",
       "\t\tjindo.$Element(\"summary_ifr\").height(layerHeight);\n",
       "\t}\n",
       "}\n",
       "function hidePannel(layerId){\n",
       "\tvar layer = jindo.$(layerId);\n",
       "\tlayer.style.display='none';\n",
       "}\n",
       "function togglePannel(layerId) {\n",
       "\tvar elTargetLayer = jindo.$Element(jindo.$$.getSingle(\"#\" + layerId));\n",
       "\t\n",
       "\tif (elTargetLayer != null) {\n",
       "\t\tif (elTargetLayer.visible()) {\n",
       "\t\t\thidePannel(layerId);\n",
       "\t\t} else {\n",
       "\t\t\tshowPannel(layerId);\n",
       "\t\t}\n",
       "\t}\n",
       "}\n",
       "function toggleList(classId) {\n",
       "\tvar sm = 'title_entity_id.basic';\n",
       "\tif (classId.text == '접기') {\n",
       "\t\tif (sm == 'title_entity_id.basic') {\n",
       "\t\t\tclickcr(this,'stn.ntitclustclose','','',event);\n",
       "\t\t} else {\n",
       "\t\t\tclickcr(this,'stn.nbdyclustclose','','',event);\n",
       "\t\t}\n",
       "\t\tjindo.$Element(classId).html('관련뉴스 <em>' + classId.getAttribute(\"data-count\") + '</em>건 더보기<span class=\"ico_down\"></span>');\n",
       "\t} else {\n",
       "\t\tclickcr(this,'stn.ntitclustclose','','',event);\n",
       "\t\tif (sm == 'title_entity_id.basic') {\n",
       "\t\t\tclickcr(this,'stn.ntitclustmore','','',event);\n",
       "\t\t} else {\n",
       "\t\t\tclickcr(this,'stn.nbdyclustmore','','',event);\n",
       "\t\t}\n",
       "\t\tjindo.$Element(classId).html('접기<span class=\"ico_up\"></span>');\n",
       "\t}\n",
       "\t\n",
       "\tjindo.$ElementList(jindo.$$(\".hide_news\", classId.parentElement.parentElement.parentElement)).toggleClass('none');\n",
       "\t\n",
       "\twindow.top.syncHeight(\"news_frame\");\n",
       "}\n",
       "</script>\n",
       "<script language=\"javascript\" src=\"/js/nclktag.js?20200305144822\" type=\"text/javascript\"></script>\n",
       "<div class=\"tb_cont\">\n",
       "<div class=\"tlline2\">\n",
       "<strong><span class=\"red03\">종목</span>뉴스</strong>\n",
       "<!-- [D] 선택시 blind 태그 추가 -->\n",
       "<div class=\"select_lst\">\n",
       "<a class=\"on\" href=\"/item/news.nhn?code=005930&amp;sm=title_entity_id.basic\" onclick=\"clickcr(this,'stn.ntitle','','',event);\" target=\"_top\"><span class=\"ico_chk\"></span>제목<span class=\"blind\">선택됨</span></a>\n",
       "<a href=\"/item/news.nhn?code=005930&amp;sm=entity_id.basic\" onclick=\"clickcr(this,'stn.nbdy','','',event);\" target=\"_top\"><span class=\"ico_chk\"></span>내용<span class=\"blind\">선택됨</span></a>\n",
       "</div>\n",
       "<div class=\"info_txt\">종목뉴스 안내<a class=\"btn_info_layer\" href=\"#\" onclick=\"togglePannel('layer_section'); clickcr(this,'stn.ninfo','','',event); return false;\"><img alt=\"상세 설명\" src=\"https://ssl.pstatic.net/static/nfinance/2017/10/13/btn_help2.png\"/></a>\n",
       "<div class=\"layer_section\" id=\"layer_section\" style=\"display:none\">\n",
       "<strong>네이버 증권 종목뉴스 안내</strong>\n",
       "<p class=\"txt\">\n",
       "\t\t\t\t\t\t\tAI(인공지능 검색기술)을 이용한 종목 관련 뉴스입니다. <br/>관련뉴스는 자동으로 묶어 보여줍니다.\n",
       "\t\t\t\t\t\t\t<br/>\n",
       "<span class=\"txt_opt\">\n",
       "\t\t\t\t\t\t\t\t검색영역 옵션\n",
       "\t\t\t\t\t\t\t\t<br/>\n",
       "\t\t\t\t\t\t\t\t제목 : 제목에서 종목명이 검색된 결과입니다. <br/>\n",
       "\t\t\t\t\t\t\t\t내용 : 제목과 본문에서 종목명이 검색된 결과입니다.\n",
       "\t\t\t\t\t\t\t</span>\n",
       "</p>\n",
       "<a class=\"btn_close\" href=\"#\" onclick=\"togglePannel('layer_section'); return false;\"><span class=\"blind\">닫기</span></a>\n",
       "</div>\n",
       "</div>\n",
       "</div>\n",
       "<table cellspacing=\"0\" class=\"type5\" summary=\"종목뉴스의 제목, 정보제공, 날짜\">\n",
       "<caption>종목뉴스</caption>\n",
       "<colgroup>\n",
       "<col/>\n",
       "<col width=\"130px\"/>\n",
       "<col width=\"110px\"/>\n",
       "</colgroup>\n",
       "<thead>\n",
       "<tr>\n",
       "<th scope=\"col\">제목</th>\n",
       "<th scope=\"col\">정보제공</th>\n",
       "<th scope=\"col\">날짜</th>\n",
       "</tr>\n",
       "</thead>\n",
       "<tbody>\n",
       "<!-- [D] tr class : 첫번째 first, 마지막 last, 연관 뉴스 relation_tit, 연관 뉴스 목록 relation_lst -->\n",
       "<tr class=\"first\">\n",
       "<td class=\"title\">\n",
       "<a class=\"tit\" href=\"/item/news_read.nhn?article_id=0004371042&amp;office_id=008&amp;code=005930&amp;page=1&amp;sm=title_entity_id.basic\" onclick=\"clickcr(this,'stn.ntitclust','','',event);\" target=\"_top\">유럽·미국서도 코로나…가전·IT 행사 줄취소에 삼성·LG 고심</a>\n",
       "</td>\n",
       "<td class=\"info\">머니투데이</td>\n",
       "<td class=\"date\"> 2020.03.06 16:05</td>\n",
       "</tr>\n",
       "<tr>\n",
       "<td class=\"title\">\n",
       "<a class=\"tit\" href=\"/item/news_read.nhn?article_id=0004591576&amp;office_id=018&amp;code=005930&amp;page=1&amp;sm=title_entity_id.basic\" onclick=\"clickcr(this,'stn.ntitclust','','',event);\" target=\"_top\">삼성전자, `코로나19` 확산 불구..주총 예정대로 18일 확정</a>\n",
       "</td>\n",
       "<td class=\"info\">이데일리</td>\n",
       "<td class=\"date\"> 2020.03.06 10:39</td>\n",
       "</tr>\n",
       "<tr class=\"relation_tit\">\n",
       "<td class=\"title\">\n",
       "<a class=\"tit\" href=\"/item/news_read.nhn?article_id=0004384888&amp;office_id=014&amp;code=005930&amp;page=1&amp;sm=title_entity_id.basic\" onclick=\"clickcr(this,'stn.ntitclust','','',event);\" target=\"_top\">준법감시위, 삼성 3대 개혁안 선정..'노조·승계·소통' 권고 예정</a>\n",
       "</td>\n",
       "<td class=\"info\">파이낸셜뉴스</td>\n",
       "<td class=\"date\"> 2020.03.06 09:39</td>\n",
       "</tr>\n",
       "<tr class=\"relation_lst _clusterId0140004384888\">\n",
       "<td colspan=\"3\">\n",
       "<table class=\"type5\">\n",
       "<caption>연관기사 목록</caption>\n",
       "<colgroup>\n",
       "<col/>\n",
       "<col width=\"130px\"/>\n",
       "<col width=\"110px\"/>\n",
       "</colgroup>\n",
       "<tbody>\n",
       "<tr>\n",
       "<td class=\"title\">\n",
       "<a class=\"tit\" href=\"/item/news_read.nhn?article_id=0004302181&amp;office_id=015&amp;code=005930&amp;page=1&amp;sm=title_entity_id.basic\" onclick=\"clickcr(this,'stn.ntitclustsub','','',event);\" target=\"_top\"><span class=\"ico_reply\"></span>삼성 준법감시위 \"중점 과제는 노조·승계·시민단체와 소통\"</a>\n",
       "</td>\n",
       "<td class=\"info\">한국경제</td>\n",
       "<td class=\"date\"> 2020.03.06 02:03</td>\n",
       "</tr>\n",
       "</tbody>\n",
       "</table>\n",
       "</td>\n",
       "</tr>\n",
       "<tr>\n",
       "<td class=\"title\">\n",
       "<a class=\"tit\" href=\"/item/news_read.nhn?article_id=0003705494&amp;office_id=011&amp;code=005930&amp;page=1&amp;sm=title_entity_id.basic\" onclick=\"clickcr(this,'stn.ntitclust','','',event);\" target=\"_top\">삼성 갤S20 출시...코로나19·줄어든 지원금 벽 넘을까</a>\n",
       "</td>\n",
       "<td class=\"info\">서울경제</td>\n",
       "<td class=\"date\"> 2020.03.06 08:44</td>\n",
       "</tr>\n",
       "<tr>\n",
       "<td class=\"title\">\n",
       "<a class=\"tit\" href=\"/item/news_read.nhn?article_id=0004591387&amp;office_id=018&amp;code=005930&amp;page=1&amp;sm=title_entity_id.basic\" onclick=\"clickcr(this,'stn.ntitclust','','',event);\" target=\"_top\">삼성, ‘갤럭시S20‘ 전세계 출시…오늘만 '갤럭시홈미니' 증정</a>\n",
       "</td>\n",
       "<td class=\"info\">이데일리</td>\n",
       "<td class=\"date\"> 2020.03.06 08:28</td>\n",
       "</tr>\n",
       "<tr>\n",
       "<td class=\"title\">\n",
       "<a class=\"tit\" href=\"/item/news_read.nhn?article_id=0004591380&amp;office_id=018&amp;code=005930&amp;page=1&amp;sm=title_entity_id.basic\" onclick=\"clickcr(this,'stn.ntitclust','','',event);\" target=\"_top\">\"반도체 가격인상…삼성전자 양호한 실적 기대\"</a>\n",
       "</td>\n",
       "<td class=\"info\">이데일리</td>\n",
       "<td class=\"date\"> 2020.03.06 08:19</td>\n",
       "</tr>\n",
       "<tr class=\"relation_tit\">\n",
       "<td class=\"title\">\n",
       "<a class=\"tit\" href=\"/item/news_read.nhn?article_id=0004531099&amp;office_id=009&amp;code=005930&amp;page=1&amp;sm=title_entity_id.basic\" onclick=\"clickcr(this,'stn.ntitclust','','',event);\" target=\"_top\">삼성 준법委 \"노조·승계 권고안 만들것\"</a>\n",
       "</td>\n",
       "<td class=\"info\">매일경제</td>\n",
       "<td class=\"date\"> 2020.03.05 23:48</td>\n",
       "</tr>\n",
       "<tr class=\"relation_lst _clusterId0090004531099\">\n",
       "<td colspan=\"3\">\n",
       "<table class=\"type5\">\n",
       "<caption>연관기사 목록</caption>\n",
       "<colgroup>\n",
       "<col/>\n",
       "<col width=\"130px\"/>\n",
       "<col width=\"110px\"/>\n",
       "</colgroup>\n",
       "<tbody>\n",
       "<tr>\n",
       "<td class=\"title\">\n",
       "<a class=\"tit\" href=\"/item/news_read.nhn?article_id=0004637571&amp;office_id=277&amp;code=005930&amp;page=1&amp;sm=title_entity_id.basic\" onclick=\"clickcr(this,'stn.ntitclustsub','','',event);\" target=\"_top\"><span class=\"ico_reply\"></span>삼성준법감시위 \"노조·승계·소통 관련 그룹차원 변화 요구 권고할 것\"</a>\n",
       "</td>\n",
       "<td class=\"info\">아시아경제</td>\n",
       "<td class=\"date\"> 2020.03.05 23:04</td>\n",
       "</tr>\n",
       "<tr class=\"hide_news none\">\n",
       "<td class=\"title\">\n",
       "<a class=\"tit\" href=\"/item/news_read.nhn?article_id=0004370591&amp;office_id=008&amp;code=005930&amp;page=1&amp;sm=title_entity_id.basic\" onclick=\"clickcr(this,'stn.ntitclustsub','','',event);\" target=\"_top\"><span class=\"ico_reply\"></span>삼성 준법감시위 \"노조·승계 관련 권고안 전달할 것\"</a>\n",
       "</td>\n",
       "<td class=\"info\">머니투데이</td>\n",
       "<td class=\"date\"> 2020.03.05 22:39</td>\n",
       "</tr>\n",
       "<tr class=\"hide_news none\">\n",
       "<td class=\"title\">\n",
       "<a class=\"tit\" href=\"/item/news_read.nhn?article_id=0003705447&amp;office_id=011&amp;code=005930&amp;page=1&amp;sm=title_entity_id.basic\" onclick=\"clickcr(this,'stn.ntitclustsub','','',event);\" target=\"_top\"><span class=\"ico_reply\"></span>삼성준법감시위, 이번엔 노사관계 논의</a>\n",
       "</td>\n",
       "<td class=\"info\">서울경제</td>\n",
       "<td class=\"date\"> 2020.03.05 20:01</td>\n",
       "</tr>\n",
       "<tr class=\"hide_news none\">\n",
       "<td class=\"title\">\n",
       "<a class=\"tit\" href=\"/item/news_read.nhn?article_id=0004370471&amp;office_id=008&amp;code=005930&amp;page=1&amp;sm=title_entity_id.basic\" onclick=\"clickcr(this,'stn.ntitclustsub','','',event);\" target=\"_top\"><span class=\"ico_reply\"></span>삼성 준법감시위 3차 회의…중점 논의과제 선정 '장고'</a>\n",
       "</td>\n",
       "<td class=\"info\">머니투데이</td>\n",
       "<td class=\"date\"> 2020.03.05 17:17</td>\n",
       "</tr>\n",
       "<tr class=\"hide_news none\">\n",
       "<td class=\"title\">\n",
       "<a class=\"tit\" href=\"/item/news_read.nhn?article_id=0004384501&amp;office_id=014&amp;code=005930&amp;page=1&amp;sm=title_entity_id.basic\" onclick=\"clickcr(this,'stn.ntitclustsub','','',event);\" target=\"_top\"><span class=\"ico_reply\"></span>삼성준법감시위 3차 회의, 노조문제 등 중점 과제 선정 착수</a>\n",
       "</td>\n",
       "<td class=\"info\">파이낸셜뉴스</td>\n",
       "<td class=\"date\"> 2020.03.05 15:23</td>\n",
       "</tr>\n",
       "</tbody>\n",
       "</table>\n",
       "<div class=\"link_area\">\n",
       "<a class=\"_moreBtn\" data-count=\"4\" href=\"#\" onclick=\"toggleList(this); return false;\">관련뉴스 <em>4</em>건 더보기<span class=\"ico_down\"></span></a>\n",
       "</div>\n",
       "</td>\n",
       "</tr>\n",
       "<tr>\n",
       "<td class=\"title\">\n",
       "<a class=\"tit\" href=\"/item/news_read.nhn?article_id=0004531043&amp;office_id=009&amp;code=005930&amp;page=1&amp;sm=title_entity_id.basic\" onclick=\"clickcr(this,'stn.ntitclust','','',event);\" target=\"_top\">삼성금융, 스타트업 경진대회 최종 우승 4개 스타트업 발표</a>\n",
       "</td>\n",
       "<td class=\"info\">매일경제</td>\n",
       "<td class=\"date\"> 2020.03.05 18:24</td>\n",
       "</tr>\n",
       "<tr class=\"relation_tit\">\n",
       "<td class=\"title\">\n",
       "<a class=\"tit\" href=\"/item/news_read.nhn?article_id=0001644737&amp;office_id=016&amp;code=005930&amp;page=1&amp;sm=title_entity_id.basic\" onclick=\"clickcr(this,'stn.ntitclust','','',event);\" target=\"_top\">김기남 삼성전자 부회장 “코로나 위기 이겨내고 100년 기업 준비하겠다...</a>\n",
       "</td>\n",
       "<td class=\"info\">헤럴드경제</td>\n",
       "<td class=\"date\"> 2020.03.05 18:08</td>\n",
       "</tr>\n",
       "<tr class=\"relation_lst _clusterId0160001644737\">\n",
       "<td colspan=\"3\">\n",
       "<table class=\"type5\">\n",
       "<caption>연관기사 목록</caption>\n",
       "<colgroup>\n",
       "<col/>\n",
       "<col width=\"130px\"/>\n",
       "<col width=\"110px\"/>\n",
       "</colgroup>\n",
       "<tbody>\n",
       "<tr>\n",
       "<td class=\"title\">\n",
       "<a class=\"tit\" href=\"/item/news_read.nhn?article_id=0004530908&amp;office_id=009&amp;code=005930&amp;page=1&amp;sm=title_entity_id.basic\" onclick=\"clickcr(this,'stn.ntitclustsub','','',event);\" target=\"_top\"><span class=\"ico_reply\"></span>김기남 \"올해는 `100년 기업 삼성` 원년\"</a>\n",
       "</td>\n",
       "<td class=\"info\">매일경제</td>\n",
       "<td class=\"date\"> 2020.03.05 17:21</td>\n",
       "</tr>\n",
       "</tbody>\n",
       "</table>\n",
       "</td>\n",
       "</tr>\n",
       "<tr class=\"last\">\n",
       "<td class=\"title\">\n",
       "<a class=\"tit\" href=\"/item/news_read.nhn?article_id=0004531033&amp;office_id=009&amp;code=005930&amp;page=1&amp;sm=title_entity_id.basic\" onclick=\"clickcr(this,'stn.ntitclust','','',event);\" target=\"_top\">삼성 그랑데 vs LG 트롬, 건조기 1위 경쟁 본격화</a>\n",
       "</td>\n",
       "<td class=\"info\">매일경제</td>\n",
       "<td class=\"date\"> 2020.03.05 17:53</td>\n",
       "</tr>\n",
       "</tbody>\n",
       "</table>\n",
       "<!--- 종목뉴스 끝--->\n",
       "<!--- 페이지 네비게이션 시작--->\n",
       "<table align=\"center\" class=\"Nnavi\" summary=\"페이지 네비게이션 리스트\">\n",
       "<caption>페이지 네비게이션</caption>\n",
       "<tr>\n",
       "<td class=\"on\">\n",
       "<a href=\"/item/news_news.nhn?code=005930&amp;page=1&amp;sm=title_entity_id.basic&amp;clusterId=\" onclick=\"clickcr(this,'stn.npag','','',event);\">1</a>\n",
       "</td>\n",
       "<td>\n",
       "<a href=\"/item/news_news.nhn?code=005930&amp;page=2&amp;sm=title_entity_id.basic&amp;clusterId=\" onclick=\"clickcr(this,'stn.npag','','',event);\">2</a>\n",
       "</td>\n",
       "<td>\n",
       "<a href=\"/item/news_news.nhn?code=005930&amp;page=3&amp;sm=title_entity_id.basic&amp;clusterId=\" onclick=\"clickcr(this,'stn.npag','','',event);\">3</a>\n",
       "</td>\n",
       "<td>\n",
       "<a href=\"/item/news_news.nhn?code=005930&amp;page=4&amp;sm=title_entity_id.basic&amp;clusterId=\" onclick=\"clickcr(this,'stn.npag','','',event);\">4</a>\n",
       "</td>\n",
       "<td>\n",
       "<a href=\"/item/news_news.nhn?code=005930&amp;page=5&amp;sm=title_entity_id.basic&amp;clusterId=\" onclick=\"clickcr(this,'stn.npag','','',event);\">5</a>\n",
       "</td>\n",
       "<td>\n",
       "<a href=\"/item/news_news.nhn?code=005930&amp;page=6&amp;sm=title_entity_id.basic&amp;clusterId=\" onclick=\"clickcr(this,'stn.npag','','',event);\">6</a>\n",
       "</td>\n",
       "<td>\n",
       "<a href=\"/item/news_news.nhn?code=005930&amp;page=7&amp;sm=title_entity_id.basic&amp;clusterId=\" onclick=\"clickcr(this,'stn.npag','','',event);\">7</a>\n",
       "</td>\n",
       "<td>\n",
       "<a href=\"/item/news_news.nhn?code=005930&amp;page=8&amp;sm=title_entity_id.basic&amp;clusterId=\" onclick=\"clickcr(this,'stn.npag','','',event);\">8</a>\n",
       "</td>\n",
       "<td>\n",
       "<a href=\"/item/news_news.nhn?code=005930&amp;page=9&amp;sm=title_entity_id.basic&amp;clusterId=\" onclick=\"clickcr(this,'stn.npag','','',event);\">9</a>\n",
       "</td>\n",
       "<td>\n",
       "<a href=\"/item/news_news.nhn?code=005930&amp;page=10&amp;sm=title_entity_id.basic&amp;clusterId=\" onclick=\"clickcr(this,'stn.npag','','',event);\">10</a>\n",
       "</td>\n",
       "<td class=\"pgR\">\n",
       "<a href=\"/item/news_news.nhn?code=005930&amp;page=11&amp;sm=title_entity_id.basic&amp;clusterId=\" onclick=\"clickcr(this,'stn.npag','','',event);\">\n",
       "\t\t\t\t다음<img alt=\"\" border=\"0\" height=\"5\" src=\"https://ssl.pstatic.net/static/n/cmn/bu_pgarR.gif\" width=\"3\"/>\n",
       "</a>\n",
       "</td>\n",
       "<td class=\"pgRR\">\n",
       "<a href=\"/item/news_news.nhn?code=005930&amp;page=978&amp;sm=title_entity_id.basic&amp;clusterId=\" onclick=\"clickcr(this,'stn.npag','','',event);\">맨뒤\n",
       "\t\t\t\t<img alt=\"\" border=\"0\" height=\"5\" src=\"https://ssl.pstatic.net/static/n/cmn/bu_pgarRR.gif\" width=\"8\"/>\n",
       "</a>\n",
       "</td>\n",
       "</tr>\n",
       "</table>\n",
       "<script src=\"/js/lcslog.js?20200305144822\" type=\"text/javascript\"></script>\n",
       "<script type=\"text/javascript\">\n",
       "        ;(function(){\n",
       "            var eventType = \"onpageshow\" in window ? \"pageshow\" : \"load\";\n",
       "            jindo.$Fn(function(){\n",
       "                lcs_do();\n",
       "            }).attach(window, eventType);\n",
       "        })();\n",
       "\t</script>\n",
       "<script type=\"text/javascript\">\n",
       "\tjindo.$Fn(function(){\n",
       "\t\twindow.scrollTo(0, 0); \n",
       "\t\twindow.top.syncHeight(\"news_frame\"); \n",
       "\t}).attach(window, 'load');\n",
       "</script>\n",
       "</div></body>\n",
       "</html>"
      ]
     },
     "execution_count": 22,
     "metadata": {},
     "output_type": "execute_result"
    }
   ],
   "source": [
    "html"
   ]
  },
  {
   "cell_type": "code",
   "execution_count": 45,
   "metadata": {},
   "outputs": [],
   "source": [
    "title = html.select(\"a.tit\")"
   ]
  },
  {
   "cell_type": "code",
   "execution_count": 47,
   "metadata": {},
   "outputs": [
    {
     "data": {
      "text/plain": [
       "<a class=\"tit\" href=\"/item/news_read.nhn?article_id=0004371042&amp;office_id=008&amp;code=005930&amp;page=1&amp;sm=title_entity_id.basic\" onclick=\"clickcr(this,'stn.ntitclust','','',event);\" target=\"_top\">유럽·미국서도 코로나…가전·IT 행사 줄취소에 삼성·LG 고심</a>"
      ]
     },
     "execution_count": 47,
     "metadata": {},
     "output_type": "execute_result"
    }
   ],
   "source": [
    "title[0]"
   ]
  },
  {
   "cell_type": "code",
   "execution_count": 57,
   "metadata": {},
   "outputs": [],
   "source": [
    "arti_date = html.select(\"td.date\")"
   ]
  },
  {
   "cell_type": "code",
   "execution_count": 54,
   "metadata": {},
   "outputs": [
    {
     "data": {
      "text/plain": [
       "[<td class=\"date\"> 2020.03.06 16:05</td>,\n",
       " <td class=\"date\"> 2020.03.06 10:39</td>,\n",
       " <td class=\"date\"> 2020.03.06 09:39</td>,\n",
       " <td class=\"date\"> 2020.03.06 02:03</td>,\n",
       " <td class=\"date\"> 2020.03.06 08:44</td>,\n",
       " <td class=\"date\"> 2020.03.06 08:28</td>,\n",
       " <td class=\"date\"> 2020.03.06 08:19</td>,\n",
       " <td class=\"date\"> 2020.03.05 23:48</td>,\n",
       " <td class=\"date\"> 2020.03.05 23:04</td>,\n",
       " <td class=\"date\"> 2020.03.05 22:39</td>,\n",
       " <td class=\"date\"> 2020.03.05 20:01</td>,\n",
       " <td class=\"date\"> 2020.03.05 17:17</td>,\n",
       " <td class=\"date\"> 2020.03.05 15:23</td>,\n",
       " <td class=\"date\"> 2020.03.05 18:24</td>,\n",
       " <td class=\"date\"> 2020.03.05 18:08</td>,\n",
       " <td class=\"date\"> 2020.03.05 17:21</td>,\n",
       " <td class=\"date\"> 2020.03.05 17:53</td>]"
      ]
     },
     "execution_count": 54,
     "metadata": {},
     "output_type": "execute_result"
    }
   ],
   "source": [
    "arti_date"
   ]
  },
  {
   "cell_type": "code",
   "execution_count": 60,
   "metadata": {},
   "outputs": [],
   "source": [
    "a = str(title[0])"
   ]
  },
  {
   "cell_type": "code",
   "execution_count": 61,
   "metadata": {},
   "outputs": [
    {
     "data": {
      "text/plain": [
       "'<a class=\"tit\" href=\"/item/news_read.nhn?article_id=0004371042&amp;office_id=008&amp;code=005930&amp;page=1&amp;sm=title_entity_id.basic\" onclick=\"clickcr(this,\\'stn.ntitclust\\',\\'\\',\\'\\',event);\" target=\"_top\">유럽·미국서도 코로나…가전·IT 행사 줄취소에 삼성·LG 고심</a>'"
      ]
     },
     "execution_count": 61,
     "metadata": {},
     "output_type": "execute_result"
    }
   ],
   "source": [
    "a"
   ]
  },
  {
   "cell_type": "code",
   "execution_count": 63,
   "metadata": {},
   "outputs": [
    {
     "data": {
      "text/plain": [
       "41"
      ]
     },
     "execution_count": 63,
     "metadata": {},
     "output_type": "execute_result"
    }
   ],
   "source": [
    "a.index(\"article_id=\")"
   ]
  },
  {
   "cell_type": "code",
   "execution_count": 68,
   "metadata": {},
   "outputs": [
    {
     "data": {
      "text/plain": [
       "'0004371042'"
      ]
     },
     "execution_count": 68,
     "metadata": {},
     "output_type": "execute_result"
    }
   ],
   "source": [
    "a[52:62]"
   ]
  },
  {
   "cell_type": "code",
   "execution_count": 69,
   "metadata": {},
   "outputs": [
    {
     "data": {
      "text/plain": [
       "67"
      ]
     },
     "execution_count": 69,
     "metadata": {},
     "output_type": "execute_result"
    }
   ],
   "source": [
    "a.index(\"office_id=\")"
   ]
  },
  {
   "cell_type": "code",
   "execution_count": 73,
   "metadata": {},
   "outputs": [
    {
     "data": {
      "text/plain": [
       "'008'"
      ]
     },
     "execution_count": 73,
     "metadata": {},
     "output_type": "execute_result"
    }
   ],
   "source": [
    "a[77:80]"
   ]
  },
  {
   "cell_type": "code",
   "execution_count": 75,
   "metadata": {},
   "outputs": [],
   "source": [
    "a_1 = str(arti_date[0])"
   ]
  },
  {
   "cell_type": "code",
   "execution_count": 76,
   "metadata": {},
   "outputs": [
    {
     "data": {
      "text/plain": [
       "'<td class=\"date\"> 2020.03.06 16:05</td>'"
      ]
     },
     "execution_count": 76,
     "metadata": {},
     "output_type": "execute_result"
    }
   ],
   "source": [
    "a_1"
   ]
  },
  {
   "cell_type": "code",
   "execution_count": 77,
   "metadata": {},
   "outputs": [
    {
     "data": {
      "text/plain": [
       "16"
      ]
     },
     "execution_count": 77,
     "metadata": {},
     "output_type": "execute_result"
    }
   ],
   "source": [
    "a_1.index(\">\")"
   ]
  },
  {
   "cell_type": "code",
   "execution_count": 81,
   "metadata": {},
   "outputs": [
    {
     "data": {
      "text/plain": [
       "' 2020.03.06'"
      ]
     },
     "execution_count": 81,
     "metadata": {},
     "output_type": "execute_result"
    }
   ],
   "source": [
    "a_1[17:28]"
   ]
  },
  {
   "cell_type": "code",
   "execution_count": 91,
   "metadata": {},
   "outputs": [
    {
     "name": "stdout",
     "output_type": "stream",
     "text": [
      "0004371042 008\n",
      "0004591576 018\n",
      "0004384888 014\n",
      "0004302181 015\n",
      "0003705494 011\n",
      "0004591387 018\n",
      "0004591380 018\n",
      "0004531099 009\n",
      "0004637571 277\n",
      "0004370591 008\n",
      "0003705447 011\n",
      "0004370471 008\n",
      "0004384501 014\n",
      "0004531043 009\n",
      "0001644737 016\n",
      "0004530908 009\n",
      "0004531033 009\n"
     ]
    }
   ],
   "source": [
    "for i in range(len(title)):\n",
    "    \n",
    "    a = str(title[i])\n",
    "    \n",
    "    art_index = a.index(\"article_id=\")\n",
    "    \n",
    "    art_start = art_index+11\n",
    "    art_end = start + 10\n",
    "    \n",
    "    arti_id = str(a[art_start:art_end])\n",
    "    \n",
    "    offi_index = a.index(\"office_id=\")\n",
    "    \n",
    "    offi_start = offi_index+10\n",
    "    offi_end = offi_start + 3\n",
    "    \n",
    "    offi_id = str(a[offi_start:offi_end])\n",
    "    \n",
    "    print(arti_id, offi_id)\n",
    "    \n",
    "    new_url = \n",
    "    \n",
    "    \n",
    "    "
   ]
  },
  {
   "cell_type": "code",
   "execution_count": null,
   "metadata": {},
   "outputs": [],
   "source": []
  }
 ],
 "metadata": {
  "kernelspec": {
   "display_name": "Python 3",
   "language": "python",
   "name": "python3"
  },
  "language_info": {
   "codemirror_mode": {
    "name": "ipython",
    "version": 3
   },
   "file_extension": ".py",
   "mimetype": "text/x-python",
   "name": "python",
   "nbconvert_exporter": "python",
   "pygments_lexer": "ipython3",
   "version": "3.6.4"
  }
 },
 "nbformat": 4,
 "nbformat_minor": 2
}
