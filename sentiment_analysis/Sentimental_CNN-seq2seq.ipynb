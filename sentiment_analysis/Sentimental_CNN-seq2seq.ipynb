{
 "cells": [
  {
   "cell_type": "code",
   "execution_count": 1,
   "metadata": {},
   "outputs": [],
   "source": [
    "import pandas as pd\n",
    "import numpy as np"
   ]
  },
  {
   "cell_type": "code",
   "execution_count": 33,
   "metadata": {},
   "outputs": [],
   "source": [
    "import tensorflow as tf\n",
    "import matplotlib.pyplot as plt\n",
    "import seaborn as sns\n",
    "from sklearn.preprocessing import MinMaxScaler\n",
    "from datetime import datetime\n",
    "from datetime import timedelta\n",
    "sns.set()\n",
    "tf.compat.v1.random.set_random_seed(1234)"
   ]
  },
  {
   "cell_type": "code",
   "execution_count": 8,
   "metadata": {},
   "outputs": [],
   "source": [
    "df_pos_nega = pd.read_excel(\"article_pos_nega_scores.xlsx\")"
   ]
  },
  {
   "cell_type": "code",
   "execution_count": 9,
   "metadata": {},
   "outputs": [
    {
     "data": {
      "text/html": [
       "<div>\n",
       "<style scoped>\n",
       "    .dataframe tbody tr th:only-of-type {\n",
       "        vertical-align: middle;\n",
       "    }\n",
       "\n",
       "    .dataframe tbody tr th {\n",
       "        vertical-align: top;\n",
       "    }\n",
       "\n",
       "    .dataframe thead th {\n",
       "        text-align: right;\n",
       "    }\n",
       "</style>\n",
       "<table border=\"1\" class=\"dataframe\">\n",
       "  <thead>\n",
       "    <tr style=\"text-align: right;\">\n",
       "      <th></th>\n",
       "      <th>date</th>\n",
       "      <th>positive</th>\n",
       "      <th>negative</th>\n",
       "      <th>pol_score</th>\n",
       "    </tr>\n",
       "  </thead>\n",
       "  <tbody>\n",
       "    <tr>\n",
       "      <td>0</td>\n",
       "      <td>2019.10.15</td>\n",
       "      <td>0.98480</td>\n",
       "      <td>0.01520</td>\n",
       "      <td>0.96950</td>\n",
       "    </tr>\n",
       "    <tr>\n",
       "      <td>1</td>\n",
       "      <td>2019.10.16</td>\n",
       "      <td>0.99355</td>\n",
       "      <td>0.00645</td>\n",
       "      <td>0.98715</td>\n",
       "    </tr>\n",
       "    <tr>\n",
       "      <td>2</td>\n",
       "      <td>2019.10.17</td>\n",
       "      <td>0.99305</td>\n",
       "      <td>0.00695</td>\n",
       "      <td>0.98615</td>\n",
       "    </tr>\n",
       "    <tr>\n",
       "      <td>3</td>\n",
       "      <td>2019.10.18</td>\n",
       "      <td>0.99530</td>\n",
       "      <td>0.00470</td>\n",
       "      <td>0.99070</td>\n",
       "    </tr>\n",
       "    <tr>\n",
       "      <td>4</td>\n",
       "      <td>2019.10.19</td>\n",
       "      <td>0.76700</td>\n",
       "      <td>0.23300</td>\n",
       "      <td>0.53390</td>\n",
       "    </tr>\n",
       "  </tbody>\n",
       "</table>\n",
       "</div>"
      ],
      "text/plain": [
       "          date  positive  negative  pol_score\n",
       "0   2019.10.15   0.98480   0.01520    0.96950\n",
       "1   2019.10.16   0.99355   0.00645    0.98715\n",
       "2   2019.10.17   0.99305   0.00695    0.98615\n",
       "3   2019.10.18   0.99530   0.00470    0.99070\n",
       "4   2019.10.19   0.76700   0.23300    0.53390"
      ]
     },
     "execution_count": 9,
     "metadata": {},
     "output_type": "execute_result"
    }
   ],
   "source": [
    "df_pos_nega.head()"
   ]
  },
  {
   "cell_type": "code",
   "execution_count": 10,
   "metadata": {},
   "outputs": [
    {
     "name": "stdout",
     "output_type": "stream",
     "text": [
      "<class 'pandas.core.frame.DataFrame'>\n",
      "RangeIndex: 145 entries, 0 to 144\n",
      "Data columns (total 4 columns):\n",
      "date         145 non-null object\n",
      "positive     145 non-null float64\n",
      "negative     145 non-null float64\n",
      "pol_score    145 non-null float64\n",
      "dtypes: float64(3), object(1)\n",
      "memory usage: 4.7+ KB\n"
     ]
    }
   ],
   "source": [
    "df_pos_nega.info()"
   ]
  },
  {
   "cell_type": "code",
   "execution_count": 11,
   "metadata": {},
   "outputs": [],
   "source": [
    "df_pos_nega['date_1'] = pd.to_datetime(df_pos_nega['date'])"
   ]
  },
  {
   "cell_type": "code",
   "execution_count": 12,
   "metadata": {},
   "outputs": [
    {
     "data": {
      "text/html": [
       "<div>\n",
       "<style scoped>\n",
       "    .dataframe tbody tr th:only-of-type {\n",
       "        vertical-align: middle;\n",
       "    }\n",
       "\n",
       "    .dataframe tbody tr th {\n",
       "        vertical-align: top;\n",
       "    }\n",
       "\n",
       "    .dataframe thead th {\n",
       "        text-align: right;\n",
       "    }\n",
       "</style>\n",
       "<table border=\"1\" class=\"dataframe\">\n",
       "  <thead>\n",
       "    <tr style=\"text-align: right;\">\n",
       "      <th></th>\n",
       "      <th>date</th>\n",
       "      <th>positive</th>\n",
       "      <th>negative</th>\n",
       "      <th>pol_score</th>\n",
       "      <th>date_1</th>\n",
       "    </tr>\n",
       "  </thead>\n",
       "  <tbody>\n",
       "    <tr>\n",
       "      <td>0</td>\n",
       "      <td>2019.10.15</td>\n",
       "      <td>0.98480</td>\n",
       "      <td>0.01520</td>\n",
       "      <td>0.96950</td>\n",
       "      <td>2019-10-15</td>\n",
       "    </tr>\n",
       "    <tr>\n",
       "      <td>1</td>\n",
       "      <td>2019.10.16</td>\n",
       "      <td>0.99355</td>\n",
       "      <td>0.00645</td>\n",
       "      <td>0.98715</td>\n",
       "      <td>2019-10-16</td>\n",
       "    </tr>\n",
       "    <tr>\n",
       "      <td>2</td>\n",
       "      <td>2019.10.17</td>\n",
       "      <td>0.99305</td>\n",
       "      <td>0.00695</td>\n",
       "      <td>0.98615</td>\n",
       "      <td>2019-10-17</td>\n",
       "    </tr>\n",
       "    <tr>\n",
       "      <td>3</td>\n",
       "      <td>2019.10.18</td>\n",
       "      <td>0.99530</td>\n",
       "      <td>0.00470</td>\n",
       "      <td>0.99070</td>\n",
       "      <td>2019-10-18</td>\n",
       "    </tr>\n",
       "    <tr>\n",
       "      <td>4</td>\n",
       "      <td>2019.10.19</td>\n",
       "      <td>0.76700</td>\n",
       "      <td>0.23300</td>\n",
       "      <td>0.53390</td>\n",
       "      <td>2019-10-19</td>\n",
       "    </tr>\n",
       "  </tbody>\n",
       "</table>\n",
       "</div>"
      ],
      "text/plain": [
       "          date  positive  negative  pol_score     date_1\n",
       "0   2019.10.15   0.98480   0.01520    0.96950 2019-10-15\n",
       "1   2019.10.16   0.99355   0.00645    0.98715 2019-10-16\n",
       "2   2019.10.17   0.99305   0.00695    0.98615 2019-10-17\n",
       "3   2019.10.18   0.99530   0.00470    0.99070 2019-10-18\n",
       "4   2019.10.19   0.76700   0.23300    0.53390 2019-10-19"
      ]
     },
     "execution_count": 12,
     "metadata": {},
     "output_type": "execute_result"
    }
   ],
   "source": [
    "df_pos_nega.head()"
   ]
  },
  {
   "cell_type": "code",
   "execution_count": 13,
   "metadata": {},
   "outputs": [],
   "source": [
    "df_stock = pd.read_csv(\"005930.KS.csv\") # download @ yahoo finance"
   ]
  },
  {
   "cell_type": "code",
   "execution_count": 14,
   "metadata": {},
   "outputs": [
    {
     "data": {
      "text/html": [
       "<div>\n",
       "<style scoped>\n",
       "    .dataframe tbody tr th:only-of-type {\n",
       "        vertical-align: middle;\n",
       "    }\n",
       "\n",
       "    .dataframe tbody tr th {\n",
       "        vertical-align: top;\n",
       "    }\n",
       "\n",
       "    .dataframe thead th {\n",
       "        text-align: right;\n",
       "    }\n",
       "</style>\n",
       "<table border=\"1\" class=\"dataframe\">\n",
       "  <thead>\n",
       "    <tr style=\"text-align: right;\">\n",
       "      <th></th>\n",
       "      <th>Date</th>\n",
       "      <th>Open</th>\n",
       "      <th>High</th>\n",
       "      <th>Low</th>\n",
       "      <th>Close</th>\n",
       "      <th>Adj Close</th>\n",
       "      <th>Volume</th>\n",
       "    </tr>\n",
       "  </thead>\n",
       "  <tbody>\n",
       "    <tr>\n",
       "      <td>0</td>\n",
       "      <td>2015-03-09</td>\n",
       "      <td>28800.0</td>\n",
       "      <td>28800.0</td>\n",
       "      <td>28400.0</td>\n",
       "      <td>28400.0</td>\n",
       "      <td>275.414124</td>\n",
       "      <td>7814600.0</td>\n",
       "    </tr>\n",
       "    <tr>\n",
       "      <td>1</td>\n",
       "      <td>2015-03-10</td>\n",
       "      <td>28680.0</td>\n",
       "      <td>28860.0</td>\n",
       "      <td>28400.0</td>\n",
       "      <td>28420.0</td>\n",
       "      <td>275.608093</td>\n",
       "      <td>10419850.0</td>\n",
       "    </tr>\n",
       "    <tr>\n",
       "      <td>2</td>\n",
       "      <td>2015-03-11</td>\n",
       "      <td>28380.0</td>\n",
       "      <td>29580.0</td>\n",
       "      <td>28360.0</td>\n",
       "      <td>29480.0</td>\n",
       "      <td>285.887604</td>\n",
       "      <td>21108650.0</td>\n",
       "    </tr>\n",
       "    <tr>\n",
       "      <td>3</td>\n",
       "      <td>2015-03-12</td>\n",
       "      <td>29200.0</td>\n",
       "      <td>29460.0</td>\n",
       "      <td>28940.0</td>\n",
       "      <td>28940.0</td>\n",
       "      <td>280.650879</td>\n",
       "      <td>19153200.0</td>\n",
       "    </tr>\n",
       "    <tr>\n",
       "      <td>4</td>\n",
       "      <td>2015-03-13</td>\n",
       "      <td>29220.0</td>\n",
       "      <td>29580.0</td>\n",
       "      <td>29100.0</td>\n",
       "      <td>29140.0</td>\n",
       "      <td>282.590424</td>\n",
       "      <td>9413100.0</td>\n",
       "    </tr>\n",
       "  </tbody>\n",
       "</table>\n",
       "</div>"
      ],
      "text/plain": [
       "         Date     Open     High      Low    Close   Adj Close      Volume\n",
       "0  2015-03-09  28800.0  28800.0  28400.0  28400.0  275.414124   7814600.0\n",
       "1  2015-03-10  28680.0  28860.0  28400.0  28420.0  275.608093  10419850.0\n",
       "2  2015-03-11  28380.0  29580.0  28360.0  29480.0  285.887604  21108650.0\n",
       "3  2015-03-12  29200.0  29460.0  28940.0  28940.0  280.650879  19153200.0\n",
       "4  2015-03-13  29220.0  29580.0  29100.0  29140.0  282.590424   9413100.0"
      ]
     },
     "execution_count": 14,
     "metadata": {},
     "output_type": "execute_result"
    }
   ],
   "source": [
    "df_stock.head()"
   ]
  },
  {
   "cell_type": "code",
   "execution_count": 15,
   "metadata": {},
   "outputs": [
    {
     "name": "stdout",
     "output_type": "stream",
     "text": [
      "<class 'pandas.core.frame.DataFrame'>\n",
      "RangeIndex: 1228 entries, 0 to 1227\n",
      "Data columns (total 7 columns):\n",
      "Date         1228 non-null object\n",
      "Open         1223 non-null float64\n",
      "High         1223 non-null float64\n",
      "Low          1223 non-null float64\n",
      "Close        1223 non-null float64\n",
      "Adj Close    1223 non-null float64\n",
      "Volume       1223 non-null float64\n",
      "dtypes: float64(6), object(1)\n",
      "memory usage: 67.3+ KB\n"
     ]
    }
   ],
   "source": [
    "df_stock.info()"
   ]
  },
  {
   "cell_type": "code",
   "execution_count": 17,
   "metadata": {},
   "outputs": [],
   "source": [
    "df_stock[\"date_1\"] = pd.to_datetime(df_stock['Date'])"
   ]
  },
  {
   "cell_type": "code",
   "execution_count": 20,
   "metadata": {},
   "outputs": [],
   "source": [
    "df_merge = pd.merge(df_pos_nega, df_stock, on = 'date_1', how='left', sort=False)"
   ]
  },
  {
   "cell_type": "code",
   "execution_count": 22,
   "metadata": {},
   "outputs": [
    {
     "data": {
      "text/html": [
       "<div>\n",
       "<style scoped>\n",
       "    .dataframe tbody tr th:only-of-type {\n",
       "        vertical-align: middle;\n",
       "    }\n",
       "\n",
       "    .dataframe tbody tr th {\n",
       "        vertical-align: top;\n",
       "    }\n",
       "\n",
       "    .dataframe thead th {\n",
       "        text-align: right;\n",
       "    }\n",
       "</style>\n",
       "<table border=\"1\" class=\"dataframe\">\n",
       "  <thead>\n",
       "    <tr style=\"text-align: right;\">\n",
       "      <th></th>\n",
       "      <th>date</th>\n",
       "      <th>positive</th>\n",
       "      <th>negative</th>\n",
       "      <th>pol_score</th>\n",
       "      <th>date_1</th>\n",
       "      <th>Date</th>\n",
       "      <th>Open</th>\n",
       "      <th>High</th>\n",
       "      <th>Low</th>\n",
       "      <th>Close</th>\n",
       "      <th>Adj Close</th>\n",
       "      <th>Volume</th>\n",
       "    </tr>\n",
       "  </thead>\n",
       "  <tbody>\n",
       "    <tr>\n",
       "      <td>0</td>\n",
       "      <td>2019.10.15</td>\n",
       "      <td>0.98480</td>\n",
       "      <td>0.01520</td>\n",
       "      <td>0.96950</td>\n",
       "      <td>2019-10-15</td>\n",
       "      <td>2019-10-15</td>\n",
       "      <td>49900.0</td>\n",
       "      <td>50200.0</td>\n",
       "      <td>49900.0</td>\n",
       "      <td>50100.0</td>\n",
       "      <td>50100.0</td>\n",
       "      <td>6058105.0</td>\n",
       "    </tr>\n",
       "    <tr>\n",
       "      <td>1</td>\n",
       "      <td>2019.10.16</td>\n",
       "      <td>0.99355</td>\n",
       "      <td>0.00645</td>\n",
       "      <td>0.98715</td>\n",
       "      <td>2019-10-16</td>\n",
       "      <td>2019-10-16</td>\n",
       "      <td>50700.0</td>\n",
       "      <td>50900.0</td>\n",
       "      <td>50400.0</td>\n",
       "      <td>50700.0</td>\n",
       "      <td>50700.0</td>\n",
       "      <td>9136282.0</td>\n",
       "    </tr>\n",
       "    <tr>\n",
       "      <td>2</td>\n",
       "      <td>2019.10.17</td>\n",
       "      <td>0.99305</td>\n",
       "      <td>0.00695</td>\n",
       "      <td>0.98615</td>\n",
       "      <td>2019-10-17</td>\n",
       "      <td>2019-10-17</td>\n",
       "      <td>50500.0</td>\n",
       "      <td>50600.0</td>\n",
       "      <td>50100.0</td>\n",
       "      <td>50500.0</td>\n",
       "      <td>50500.0</td>\n",
       "      <td>6701380.0</td>\n",
       "    </tr>\n",
       "    <tr>\n",
       "      <td>3</td>\n",
       "      <td>2019.10.18</td>\n",
       "      <td>0.99530</td>\n",
       "      <td>0.00470</td>\n",
       "      <td>0.99070</td>\n",
       "      <td>2019-10-18</td>\n",
       "      <td>2019-10-18</td>\n",
       "      <td>50300.0</td>\n",
       "      <td>50900.0</td>\n",
       "      <td>49650.0</td>\n",
       "      <td>49900.0</td>\n",
       "      <td>49900.0</td>\n",
       "      <td>8483106.0</td>\n",
       "    </tr>\n",
       "    <tr>\n",
       "      <td>4</td>\n",
       "      <td>2019.10.19</td>\n",
       "      <td>0.76700</td>\n",
       "      <td>0.23300</td>\n",
       "      <td>0.53390</td>\n",
       "      <td>2019-10-19</td>\n",
       "      <td>NaN</td>\n",
       "      <td>NaN</td>\n",
       "      <td>NaN</td>\n",
       "      <td>NaN</td>\n",
       "      <td>NaN</td>\n",
       "      <td>NaN</td>\n",
       "      <td>NaN</td>\n",
       "    </tr>\n",
       "  </tbody>\n",
       "</table>\n",
       "</div>"
      ],
      "text/plain": [
       "          date  positive  negative  pol_score     date_1        Date     Open  \\\n",
       "0   2019.10.15   0.98480   0.01520    0.96950 2019-10-15  2019-10-15  49900.0   \n",
       "1   2019.10.16   0.99355   0.00645    0.98715 2019-10-16  2019-10-16  50700.0   \n",
       "2   2019.10.17   0.99305   0.00695    0.98615 2019-10-17  2019-10-17  50500.0   \n",
       "3   2019.10.18   0.99530   0.00470    0.99070 2019-10-18  2019-10-18  50300.0   \n",
       "4   2019.10.19   0.76700   0.23300    0.53390 2019-10-19         NaN      NaN   \n",
       "\n",
       "      High      Low    Close  Adj Close     Volume  \n",
       "0  50200.0  49900.0  50100.0    50100.0  6058105.0  \n",
       "1  50900.0  50400.0  50700.0    50700.0  9136282.0  \n",
       "2  50600.0  50100.0  50500.0    50500.0  6701380.0  \n",
       "3  50900.0  49650.0  49900.0    49900.0  8483106.0  \n",
       "4      NaN      NaN      NaN        NaN        NaN  "
      ]
     },
     "execution_count": 22,
     "metadata": {},
     "output_type": "execute_result"
    }
   ],
   "source": [
    "df_merge.head()"
   ]
  },
  {
   "cell_type": "code",
   "execution_count": 23,
   "metadata": {},
   "outputs": [],
   "source": [
    "df_merge = df_merge[[\"date_1\",\"Adj Close\", \"positive\",\"negative\"]]"
   ]
  },
  {
   "cell_type": "code",
   "execution_count": 25,
   "metadata": {},
   "outputs": [
    {
     "data": {
      "text/html": [
       "<div>\n",
       "<style scoped>\n",
       "    .dataframe tbody tr th:only-of-type {\n",
       "        vertical-align: middle;\n",
       "    }\n",
       "\n",
       "    .dataframe tbody tr th {\n",
       "        vertical-align: top;\n",
       "    }\n",
       "\n",
       "    .dataframe thead th {\n",
       "        text-align: right;\n",
       "    }\n",
       "</style>\n",
       "<table border=\"1\" class=\"dataframe\">\n",
       "  <thead>\n",
       "    <tr style=\"text-align: right;\">\n",
       "      <th></th>\n",
       "      <th>date_1</th>\n",
       "      <th>Adj Close</th>\n",
       "      <th>positive</th>\n",
       "      <th>negative</th>\n",
       "    </tr>\n",
       "  </thead>\n",
       "  <tbody>\n",
       "    <tr>\n",
       "      <td>0</td>\n",
       "      <td>2019-10-15</td>\n",
       "      <td>50100.0</td>\n",
       "      <td>0.98480</td>\n",
       "      <td>0.01520</td>\n",
       "    </tr>\n",
       "    <tr>\n",
       "      <td>1</td>\n",
       "      <td>2019-10-16</td>\n",
       "      <td>50700.0</td>\n",
       "      <td>0.99355</td>\n",
       "      <td>0.00645</td>\n",
       "    </tr>\n",
       "    <tr>\n",
       "      <td>2</td>\n",
       "      <td>2019-10-17</td>\n",
       "      <td>50500.0</td>\n",
       "      <td>0.99305</td>\n",
       "      <td>0.00695</td>\n",
       "    </tr>\n",
       "    <tr>\n",
       "      <td>3</td>\n",
       "      <td>2019-10-18</td>\n",
       "      <td>49900.0</td>\n",
       "      <td>0.99530</td>\n",
       "      <td>0.00470</td>\n",
       "    </tr>\n",
       "    <tr>\n",
       "      <td>4</td>\n",
       "      <td>2019-10-19</td>\n",
       "      <td>NaN</td>\n",
       "      <td>0.76700</td>\n",
       "      <td>0.23300</td>\n",
       "    </tr>\n",
       "  </tbody>\n",
       "</table>\n",
       "</div>"
      ],
      "text/plain": [
       "      date_1  Adj Close  positive  negative\n",
       "0 2019-10-15    50100.0   0.98480   0.01520\n",
       "1 2019-10-16    50700.0   0.99355   0.00645\n",
       "2 2019-10-17    50500.0   0.99305   0.00695\n",
       "3 2019-10-18    49900.0   0.99530   0.00470\n",
       "4 2019-10-19        NaN   0.76700   0.23300"
      ]
     },
     "execution_count": 25,
     "metadata": {},
     "output_type": "execute_result"
    }
   ],
   "source": [
    "df_merge.head()"
   ]
  },
  {
   "cell_type": "code",
   "execution_count": 26,
   "metadata": {},
   "outputs": [
    {
     "data": {
      "text/plain": [
       "date_1        0\n",
       "Adj Close    47\n",
       "positive      0\n",
       "negative      0\n",
       "dtype: int64"
      ]
     },
     "execution_count": 26,
     "metadata": {},
     "output_type": "execute_result"
    }
   ],
   "source": [
    "df_merge.isnull().sum()"
   ]
  },
  {
   "cell_type": "code",
   "execution_count": 28,
   "metadata": {},
   "outputs": [],
   "source": [
    "df_final = df_merge.dropna()"
   ]
  },
  {
   "cell_type": "code",
   "execution_count": 29,
   "metadata": {},
   "outputs": [
    {
     "data": {
      "text/plain": [
       "date_1       0\n",
       "Adj Close    0\n",
       "positive     0\n",
       "negative     0\n",
       "dtype: int64"
      ]
     },
     "execution_count": 29,
     "metadata": {},
     "output_type": "execute_result"
    }
   ],
   "source": [
    "df_final.isnull().sum()"
   ]
  },
  {
   "cell_type": "code",
   "execution_count": 31,
   "metadata": {},
   "outputs": [
    {
     "data": {
      "text/plain": [
       "<matplotlib.axes._subplots.AxesSubplot at 0x1cacb944dc8>"
      ]
     },
     "execution_count": 31,
     "metadata": {},
     "output_type": "execute_result"
    },
    {
     "data": {
      "image/png": "[encoded data removed]",
      "text/plain": [
       "<Figure size 432x288 with 1 Axes>"
      ]
     },
     "metadata": {
      "needs_background": "light"
     },
     "output_type": "display_data"
    }
   ],
   "source": [
    "df_final['Adj Close'].plot()"
   ]
  },
  {
   "cell_type": "code",
   "execution_count": 36,
   "metadata": {},
   "outputs": [
    {
     "data": {
      "image/png": "[encoded data removed]",
      "text/plain": [
       "<Figure size 1224x360 with 1 Axes>"
      ]
     },
     "metadata": {},
     "output_type": "display_data"
    }
   ],
   "source": [
    "from mpl_toolkits.axes_grid1 import host_subplot\n",
    "import mpl_toolkits.axisartist as AA\n",
    "\n",
    "close = df_final['Adj Close'].tolist()\n",
    "positive = df_final['positive'].tolist()\n",
    "negative = df_final['negative'].tolist()\n",
    "timestamp = df_final['date_1'].tolist()\n",
    "\n",
    "plt.figure(figsize = (17, 5))\n",
    "host = host_subplot(111)\n",
    "plt.subplots_adjust(right = 0.75, top = 0.8)\n",
    "par1 = host.twinx()\n",
    "par2 = host.twinx()\n",
    "\n",
    "par2.spines['right'].set_position(('axes', 1.1))\n",
    "par2.spines['bottom'].set_position(('axes', 0.9))\n",
    "host.set_xlabel('timestamp')\n",
    "host.set_ylabel('Adj Close')\n",
    "par1.set_ylabel('positive')\n",
    "par2.set_ylabel('negative')\n",
    "\n",
    "host.plot(close, label = 'BTC/USDT')\n",
    "par1.plot(positive, label = 'positive')\n",
    "par2.plot(negative, label = 'negative')\n",
    "host.legend()\n",
    "plt.xticks(\n",
    "        np.arange(len(timestamp))[::10], timestamp[::10], rotation = '45', ha = 'right'\n",
    "    )\n",
    "plt.legend()\n",
    "plt.show()"
   ]
  },
  {
   "cell_type": "code",
   "execution_count": 69,
   "metadata": {},
   "outputs": [],
   "source": [
    "df_final.reset_index(inplace = True)"
   ]
  },
  {
   "cell_type": "code",
   "execution_count": 72,
   "metadata": {},
   "outputs": [
    {
     "name": "stderr",
     "output_type": "stream",
     "text": [
      "C:\\Users\\kt347\\AppData\\Local\\Continuum\\anaconda3\\lib\\site-packages\\pandas\\core\\frame.py:4102: SettingWithCopyWarning: \n",
      "A value is trying to be set on a copy of a slice from a DataFrame\n",
      "\n",
      "See the caveats in the documentation: http://pandas.pydata.org/pandas-docs/stable/user_guide/indexing.html#returning-a-view-versus-a-copy\n",
      "  errors=errors,\n"
     ]
    }
   ],
   "source": [
    "df_final.drop(['index'], axis = 1, inplace = True)"
   ]
  },
  {
   "cell_type": "code",
   "execution_count": 73,
   "metadata": {},
   "outputs": [
    {
     "data": {
      "text/html": [
       "<div>\n",
       "<style scoped>\n",
       "    .dataframe tbody tr th:only-of-type {\n",
       "        vertical-align: middle;\n",
       "    }\n",
       "\n",
       "    .dataframe tbody tr th {\n",
       "        vertical-align: top;\n",
       "    }\n",
       "\n",
       "    .dataframe thead th {\n",
       "        text-align: right;\n",
       "    }\n",
       "</style>\n",
       "<table border=\"1\" class=\"dataframe\">\n",
       "  <thead>\n",
       "    <tr style=\"text-align: right;\">\n",
       "      <th></th>\n",
       "      <th>0</th>\n",
       "      <th>1</th>\n",
       "      <th>2</th>\n",
       "    </tr>\n",
       "  </thead>\n",
       "  <tbody>\n",
       "    <tr>\n",
       "      <td>0</td>\n",
       "      <td>0.050193</td>\n",
       "      <td>0.98480</td>\n",
       "      <td>0.01520</td>\n",
       "    </tr>\n",
       "    <tr>\n",
       "      <td>1</td>\n",
       "      <td>0.096525</td>\n",
       "      <td>0.99355</td>\n",
       "      <td>0.00645</td>\n",
       "    </tr>\n",
       "    <tr>\n",
       "      <td>2</td>\n",
       "      <td>0.081081</td>\n",
       "      <td>0.99305</td>\n",
       "      <td>0.00695</td>\n",
       "    </tr>\n",
       "    <tr>\n",
       "      <td>3</td>\n",
       "      <td>0.034749</td>\n",
       "      <td>0.99530</td>\n",
       "      <td>0.00470</td>\n",
       "    </tr>\n",
       "    <tr>\n",
       "      <td>4</td>\n",
       "      <td>0.065637</td>\n",
       "      <td>0.96405</td>\n",
       "      <td>0.03595</td>\n",
       "    </tr>\n",
       "  </tbody>\n",
       "</table>\n",
       "</div>"
      ],
      "text/plain": [
       "          0        1        2\n",
       "0  0.050193  0.98480  0.01520\n",
       "1  0.096525  0.99355  0.00645\n",
       "2  0.081081  0.99305  0.00695\n",
       "3  0.034749  0.99530  0.00470\n",
       "4  0.065637  0.96405  0.03595"
      ]
     },
     "execution_count": 73,
     "metadata": {},
     "output_type": "execute_result"
    }
   ],
   "source": [
    "minmax = MinMaxScaler().fit(df_final.iloc[:, 1:2].astype('float32'))\n",
    "df_log = minmax.transform(df_final.iloc[:, 1:2].astype('float32'))\n",
    "df_log = pd.DataFrame(df_log)\n",
    "df_log[1] = df_final['positive']\n",
    "df_log[2] = df_final['negative']\n",
    "df_log.head()"
   ]
  },
  {
   "cell_type": "code",
   "execution_count": 74,
   "metadata": {},
   "outputs": [
    {
     "data": {
      "text/plain": [
       "((98, 1), (68, 3), (30, 3))"
      ]
     },
     "execution_count": 74,
     "metadata": {},
     "output_type": "execute_result"
    }
   ],
   "source": [
    "num_layers = 1\n",
    "size_layer = 128\n",
    "epoch = 200\n",
    "dropout_rate = 0.75\n",
    "test_size = 3 * 10 # timestamp every 20 minutes, and I want to test on last 12 hours\n",
    "learning_rate = 1e-3\n",
    "timestamp = test_size\n",
    "\n",
    "df_train = df_log.iloc[:-test_size]\n",
    "df_test = df_log.iloc[-test_size:]\n",
    "df.shape, df_train.shape, df_test.shape"
   ]
  },
  {
   "cell_type": "code",
   "execution_count": 75,
   "metadata": {},
   "outputs": [],
   "source": [
    "def encoder_block(inp, n_hidden, filter_size):\n",
    "    inp = tf.expand_dims(inp, 2)\n",
    "    inp = tf.pad(\n",
    "        inp,\n",
    "        [\n",
    "            [0, 0],\n",
    "            [(filter_size[0] - 1) // 2, (filter_size[0] - 1) // 2],\n",
    "            [0, 0],\n",
    "            [0, 0],\n",
    "        ],\n",
    "    )\n",
    "    conv = tf.layers.conv2d(\n",
    "        inp, n_hidden, filter_size, padding = 'VALID', activation = None\n",
    "    )\n",
    "    conv = tf.squeeze(conv, 2)\n",
    "    return conv\n",
    "\n",
    "\n",
    "def decoder_block(inp, n_hidden, filter_size):\n",
    "    inp = tf.expand_dims(inp, 2)\n",
    "    inp = tf.pad(inp, [[0, 0], [filter_size[0] - 1, 0], [0, 0], [0, 0]])\n",
    "    conv = tf.layers.conv2d(\n",
    "        inp, n_hidden, filter_size, padding = 'VALID', activation = None\n",
    "    )\n",
    "    conv = tf.squeeze(conv, 2)\n",
    "    return conv\n",
    "\n",
    "\n",
    "def glu(x):\n",
    "    return tf.multiply(\n",
    "        x[:, :, : tf.shape(x)[2] // 2],\n",
    "        tf.sigmoid(x[:, :, tf.shape(x)[2] // 2 :]),\n",
    "    )\n",
    "\n",
    "\n",
    "def layer(inp, conv_block, kernel_width, n_hidden, residual = None):\n",
    "    z = conv_block(inp, n_hidden, (kernel_width, 1))\n",
    "    return glu(z) + (residual if residual is not None else 0)\n",
    "\n",
    "class Model:\n",
    "    def __init__(\n",
    "        self,\n",
    "        learning_rate,\n",
    "        num_layers,\n",
    "        size,\n",
    "        size_layer,\n",
    "        output_size,\n",
    "        kernel_size = 3,\n",
    "        n_attn_heads = 16,\n",
    "        dropout = 0.9,\n",
    "    ):\n",
    "        self.X = tf.placeholder(tf.float32, (None, None, size))\n",
    "        self.Y = tf.placeholder(tf.float32, (None, output_size))\n",
    "\n",
    "        encoder_embedded = tf.layers.dense(self.X, size_layer)\n",
    "\n",
    "        e = tf.identity(encoder_embedded)\n",
    "        for i in range(num_layers):\n",
    "            z = layer(\n",
    "                encoder_embedded,\n",
    "                encoder_block,\n",
    "                kernel_size,\n",
    "                size_layer * 2,\n",
    "                encoder_embedded,\n",
    "            )\n",
    "            z = tf.nn.dropout(z, keep_prob = dropout)\n",
    "            encoder_embedded = z\n",
    "\n",
    "        encoder_output, output_memory = z, z + e\n",
    "        g = tf.identity(encoder_embedded)\n",
    "\n",
    "        for i in range(num_layers):\n",
    "            attn_res = h = layer(\n",
    "                encoder_embedded,\n",
    "                decoder_block,\n",
    "                kernel_size,\n",
    "                size_layer * 2,\n",
    "                residual = tf.zeros_like(encoder_embedded),\n",
    "            )\n",
    "            C = []\n",
    "            for j in range(n_attn_heads):\n",
    "                h_ = tf.layers.dense(h, size_layer // n_attn_heads)\n",
    "                g_ = tf.layers.dense(g, size_layer // n_attn_heads)\n",
    "                zu_ = tf.layers.dense(\n",
    "                    encoder_output, size_layer // n_attn_heads\n",
    "                )\n",
    "                ze_ = tf.layers.dense(output_memory, size_layer // n_attn_heads)\n",
    "\n",
    "                d = tf.layers.dense(h_, size_layer // n_attn_heads) + g_\n",
    "                dz = tf.matmul(d, tf.transpose(zu_, [0, 2, 1]))\n",
    "                a = tf.nn.softmax(dz)\n",
    "                c_ = tf.matmul(a, ze_)\n",
    "                C.append(c_)\n",
    "\n",
    "            c = tf.concat(C, 2)\n",
    "            h = tf.layers.dense(attn_res + c, size_layer)\n",
    "            h = tf.nn.dropout(h, keep_prob = dropout)\n",
    "            encoder_embedded = h\n",
    "\n",
    "        encoder_embedded = tf.sigmoid(encoder_embedded[-1])\n",
    "        self.logits = tf.layers.dense(encoder_embedded, output_size)\n",
    "        self.cost = tf.reduce_mean(tf.square(self.Y - self.logits))\n",
    "        self.optimizer = tf.train.AdamOptimizer(learning_rate).minimize(\n",
    "            self.cost\n",
    "        )\n",
    "        \n",
    "def calculate_accuracy(real, predict):\n",
    "    real = np.array(real) + 1\n",
    "    predict = np.array(predict) + 1\n",
    "    percentage = 1 - np.sqrt(np.mean(np.square((real - predict) / real)))\n",
    "    return percentage * 100\n",
    "\n",
    "def anchor(signal, weight):\n",
    "    buffer = []\n",
    "    last = signal[0]\n",
    "    for i in signal:\n",
    "        smoothed_val = last * weight + (1 - weight) * i\n",
    "        buffer.append(smoothed_val)\n",
    "        last = smoothed_val\n",
    "    return buffer"
   ]
  },
  {
   "cell_type": "code",
   "execution_count": 76,
   "metadata": {},
   "outputs": [
    {
     "name": "stderr",
     "output_type": "stream",
     "text": [
      "C:\\Users\\kt347\\AppData\\Local\\Continuum\\anaconda3\\lib\\site-packages\\tensorflow\\python\\client\\session.py:1702: UserWarning: An interactive session is already active. This can cause out-of-memory errors in some cases. You must explicitly call `InteractiveSession.close()` to release resources held by the other session(s).\n",
      "  warnings.warn('An interactive session is already active. This can '\n"
     ]
    }
   ],
   "source": [
    "tf.reset_default_graph()\n",
    "modelnn = Model(\n",
    "    learning_rate, num_layers, df_log.shape[1], size_layer, df_log.shape[1], \n",
    "    dropout = dropout_rate\n",
    ")\n",
    "sess = tf.InteractiveSession()\n",
    "sess.run(tf.global_variables_initializer())"
   ]
  },
  {
   "cell_type": "code",
   "execution_count": 77,
   "metadata": {},
   "outputs": [
    {
     "name": "stderr",
     "output_type": "stream",
     "text": [
      "train loop: 100%|████████████████████████████████████████████| 200/200 [00:08<00:00, 24.34it/s, acc=96.5, cost=0.00106]\n"
     ]
    }
   ],
   "source": [
    "from tqdm import tqdm\n",
    "\n",
    "pbar = tqdm(range(epoch), desc = 'train loop')\n",
    "for i in pbar:\n",
    "    init_value = np.zeros((1, num_layers * 2 * size_layer))\n",
    "    total_loss, total_acc = [], []\n",
    "    for k in range(0, df_train.shape[0] - 1, timestamp):\n",
    "        index = min(k + timestamp, df_train.shape[0] - 1)\n",
    "        batch_x = np.expand_dims(\n",
    "            df_train.iloc[k : index, :].values, axis = 0\n",
    "        )\n",
    "        batch_y = df_train.iloc[k + 1 : index + 1, :].values\n",
    "        logits, _, loss = sess.run(\n",
    "            [modelnn.logits, modelnn.optimizer, modelnn.cost],\n",
    "            feed_dict = {modelnn.X: batch_x, modelnn.Y: batch_y},\n",
    "        )        \n",
    "        total_loss.append(loss)\n",
    "        total_acc.append(calculate_accuracy(batch_y[:, 0], logits[:, 0]))\n",
    "    pbar.set_postfix(cost = np.mean(total_loss), acc = np.mean(total_acc))"
   ]
  },
  {
   "cell_type": "code",
   "execution_count": 78,
   "metadata": {},
   "outputs": [],
   "source": [
    "future_day = test_size\n",
    "\n",
    "output_predict = np.zeros((df_train.shape[0] + future_day, df_train.shape[1]))\n",
    "output_predict[0] = df_train.iloc[0]\n",
    "upper_b = (df_train.shape[0] // timestamp) * timestamp\n",
    "\n",
    "for k in range(0, (df_train.shape[0] // timestamp) * timestamp, timestamp):\n",
    "    out_logits = sess.run(\n",
    "        modelnn.logits,\n",
    "        feed_dict = {\n",
    "            modelnn.X: np.expand_dims(\n",
    "                df_train.iloc[k : k + timestamp], axis = 0\n",
    "            )\n",
    "        },\n",
    "    )\n",
    "    output_predict[k + 1 : k + timestamp + 1] = out_logits\n",
    "\n",
    "if upper_b != df_train.shape[0]:\n",
    "    out_logits = sess.run(\n",
    "        modelnn.logits,\n",
    "        feed_dict = {\n",
    "            modelnn.X: np.expand_dims(df_train.iloc[upper_b:], axis = 0)\n",
    "        },\n",
    "    )\n",
    "    output_predict[upper_b + 1 : df_train.shape[0] + 1] = out_logits\n",
    "    future_day -= 1"
   ]
  },
  {
   "cell_type": "code",
   "execution_count": 79,
   "metadata": {},
   "outputs": [],
   "source": [
    "output_predict_negative = output_predict.copy()\n",
    "output_predict_positive = output_predict.copy()"
   ]
  },
  {
   "cell_type": "code",
   "execution_count": 80,
   "metadata": {},
   "outputs": [],
   "source": [
    "for i in range(future_day):\n",
    "    o = output_predict[-future_day - timestamp + i:-future_day + i].copy()\n",
    "    o = np.expand_dims(o, axis = 0)\n",
    "    \n",
    "    o_negative = output_predict_negative[-future_day - timestamp + i:-future_day + i].copy()\n",
    "    o_negative = np.expand_dims(o_negative, axis = 0)\n",
    "    o_negative[:, :, 1] = 0.0\n",
    "    o_negative[:, :, 2] = 1.0\n",
    "    \n",
    "    o_positive = output_predict_positive[-future_day - timestamp + i:-future_day + i].copy()\n",
    "    o_positive = np.expand_dims(o_positive, axis = 0)\n",
    "    o_positive[:, :, 1] = 1.0\n",
    "    o_positive[:, :, 2] = 0.0\n",
    "    \n",
    "    # original without any consensus\n",
    "    out_logits = sess.run(\n",
    "        modelnn.logits,\n",
    "        feed_dict = {\n",
    "            modelnn.X: o\n",
    "        },\n",
    "    )\n",
    "    output_predict[-future_day + i] = out_logits[-1]\n",
    "    \n",
    "    # negative consensus\n",
    "    out_logits = sess.run(\n",
    "        modelnn.logits,\n",
    "        feed_dict = {\n",
    "            modelnn.X: o_negative\n",
    "        },\n",
    "    )\n",
    "    output_predict_negative[-future_day + i] = out_logits[-1]\n",
    "    \n",
    "    # positive consensus\n",
    "    out_logits = sess.run(\n",
    "        modelnn.logits,\n",
    "        feed_dict = {\n",
    "            modelnn.X: o_positive\n",
    "        },\n",
    "    )\n",
    "    output_predict_positive[-future_day + i] = out_logits[-1]"
   ]
  },
  {
   "cell_type": "code",
   "execution_count": 81,
   "metadata": {},
   "outputs": [],
   "source": [
    "output_predict_original = minmax.inverse_transform(output_predict[:,:1])\n",
    "output_predict_negative = minmax.inverse_transform(output_predict_negative[:,:1])\n",
    "output_predict_positive = minmax.inverse_transform(output_predict_positive[:,:1])"
   ]
  },
  {
   "cell_type": "code",
   "execution_count": 82,
   "metadata": {},
   "outputs": [],
   "source": [
    "deep_future = anchor(output_predict_original[:, 0], 0.7)\n",
    "deep_future_negative = anchor(output_predict_negative[:, 0], 0.7)\n",
    "deep_future_positive = anchor(output_predict_positive[:, 0], 0.7)"
   ]
  },
  {
   "cell_type": "code",
   "execution_count": 83,
   "metadata": {},
   "outputs": [
    {
     "data": {
      "text/plain": [
       "((98, 1), 98)"
      ]
     },
     "execution_count": 83,
     "metadata": {},
     "output_type": "execute_result"
    }
   ],
   "source": [
    "df.shape, len(deep_future_negative)"
   ]
  },
  {
   "cell_type": "code",
   "execution_count": 84,
   "metadata": {},
   "outputs": [],
   "source": [
    "df_train = minmax.inverse_transform(df_train)\n",
    "df_test = minmax.inverse_transform(df_test)"
   ]
  },
  {
   "cell_type": "code",
   "execution_count": 85,
   "metadata": {},
   "outputs": [
    {
     "data": {
      "image/png": "[encoded data removed]",
      "text/plain": [
       "<Figure size 1080x360 with 1 Axes>"
      ]
     },
     "metadata": {},
     "output_type": "display_data"
    }
   ],
   "source": [
    "timestamp = df_final['date_1'].tolist()\n",
    "pad_test = np.pad(df_test[:,0], (df_train.shape[0], 0), 'constant', constant_values=np.nan)\n",
    "\n",
    "plt.figure(figsize = (15, 5))\n",
    "plt.plot(pad_test, label = 'test trend', c = 'blue')\n",
    "plt.plot(df_train[:,0], label = 'train trend', c = 'black')\n",
    "plt.plot(deep_future, label = 'forecast without consensus')\n",
    "plt.plot(deep_future_negative, label = 'forecast with negative consensus', c = 'red')\n",
    "plt.plot(deep_future_positive, label = 'forecast with positive consensus', c = 'green')\n",
    "plt.legend()\n",
    "plt.xticks(\n",
    "    np.arange(len(timestamp))[::10], timestamp[::10], rotation = '45', ha = 'right'\n",
    ")\n",
    "plt.show()"
   ]
  },
  {
   "cell_type": "code",
   "execution_count": null,
   "metadata": {},
   "outputs": [],
   "source": []
  }
 ],
 "metadata": {
  "kernelspec": {
   "display_name": "Python 3",
   "language": "python",
   "name": "python3"
  },
  "language_info": {
   "codemirror_mode": {
    "name": "ipython",
    "version": 3
   },
   "file_extension": ".py",
   "mimetype": "text/x-python",
   "name": "python",
   "nbconvert_exporter": "python",
   "pygments_lexer": "ipython3",
   "version": "3.7.4"
  }
 },
 "nbformat": 4,
 "nbformat_minor": 2
}
