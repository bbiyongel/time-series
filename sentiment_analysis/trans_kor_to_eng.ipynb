{
 "cells": [
  {
   "cell_type": "code",
   "execution_count": 127,
   "metadata": {},
   "outputs": [],
   "source": [
    "import pandas as pd\n",
    "import numpy as np\n",
    "import math"
   ]
  },
  {
   "cell_type": "code",
   "execution_count": 36,
   "metadata": {},
   "outputs": [],
   "source": [
    "from nltk.sentiment.vader import SentimentIntensityAnalyzer\n",
    "from googletrans import Translator"
   ]
  },
  {
   "cell_type": "code",
   "execution_count": 37,
   "metadata": {},
   "outputs": [],
   "source": [
    "sia = SentimentIntensityAnalyzer()\n",
    "translator = Translator()"
   ]
  },
  {
   "cell_type": "code",
   "execution_count": 39,
   "metadata": {},
   "outputs": [],
   "source": [
    "def cleartext(text):\n",
    "    text = text.replace(\"\\n\",\"\").replace(\"\\t\",\"\").replace(\"\\r\",\"\").replace(\"r_start\",\"\").replace(\"r_end\",\"\").strip(\" \")\n",
    "    text = text.replace(\"// flash 오류를 우회하기 위한 함수 추가function _flash_removeCallback() {}\",\"\")\n",
    "    text = text.replace(\"\\xa0\",\" \")\n",
    "    return text"
   ]
  },
  {
   "cell_type": "code",
   "execution_count": 142,
   "metadata": {},
   "outputs": [],
   "source": [
    "df = pd.read_excel(\"news_file_005930_1.xlsx\")"
   ]
  },
  {
   "cell_type": "code",
   "execution_count": 143,
   "metadata": {},
   "outputs": [
    {
     "data": {
      "text/html": [
       "<div>\n",
       "<style scoped>\n",
       "    .dataframe tbody tr th:only-of-type {\n",
       "        vertical-align: middle;\n",
       "    }\n",
       "\n",
       "    .dataframe tbody tr th {\n",
       "        vertical-align: top;\n",
       "    }\n",
       "\n",
       "    .dataframe thead th {\n",
       "        text-align: right;\n",
       "    }\n",
       "</style>\n",
       "<table border=\"1\" class=\"dataframe\">\n",
       "  <thead>\n",
       "    <tr style=\"text-align: right;\">\n",
       "      <th></th>\n",
       "      <th>Unnamed: 0</th>\n",
       "      <th>date</th>\n",
       "      <th>body</th>\n",
       "    </tr>\n",
       "  </thead>\n",
       "  <tbody>\n",
       "    <tr>\n",
       "      <td>0</td>\n",
       "      <td>https://finance.naver.com/item/news_read.nhn?a...</td>\n",
       "      <td>2020.03.07</td>\n",
       "      <td>\\n삼성중공업이 건조한 세상에서 가장 큰 배 프렐류드 FLNG.출쳐 Shell 유튜...</td>\n",
       "    </tr>\n",
       "    <tr>\n",
       "      <td>1</td>\n",
       "      <td>https://finance.naver.com/item/news_read.nhn?a...</td>\n",
       "      <td>2020.03.07</td>\n",
       "      <td>\\n김지형 삼성 준법감시위원회 위원장이 5일 서울 서초구 삼성생명 서초타워에서 열린...</td>\n",
       "    </tr>\n",
       "    <tr>\n",
       "      <td>2</td>\n",
       "      <td>https://finance.naver.com/item/news_read.nhn?a...</td>\n",
       "      <td>2020.03.07</td>\n",
       "      <td>\\n현대 테라타워 영통 투시도 사진 현대엔지니어링대기업 인근 지식산업센터가 투자자들...</td>\n",
       "    </tr>\n",
       "    <tr>\n",
       "      <td>3</td>\n",
       "      <td>https://finance.naver.com/item/news_read.nhn?a...</td>\n",
       "      <td>2020.03.07</td>\n",
       "      <td>\\n 파이낸셜뉴스 한국예탁결제원은 12월 결산 상장사 중 총 105곳이 정기주주총회...</td>\n",
       "    </tr>\n",
       "    <tr>\n",
       "      <td>4</td>\n",
       "      <td>https://finance.naver.com/item/news_read.nhn?a...</td>\n",
       "      <td>2020.03.06</td>\n",
       "      <td>\\n사진제공한국예탁결제원 한국예탁결제원은 12월 결산 상장사 중 총 105곳이 정기...</td>\n",
       "    </tr>\n",
       "  </tbody>\n",
       "</table>\n",
       "</div>"
      ],
      "text/plain": [
       "                                          Unnamed: 0         date  \\\n",
       "0  https://finance.naver.com/item/news_read.nhn?a...   2020.03.07   \n",
       "1  https://finance.naver.com/item/news_read.nhn?a...   2020.03.07   \n",
       "2  https://finance.naver.com/item/news_read.nhn?a...   2020.03.07   \n",
       "3  https://finance.naver.com/item/news_read.nhn?a...   2020.03.07   \n",
       "4  https://finance.naver.com/item/news_read.nhn?a...   2020.03.06   \n",
       "\n",
       "                                                body  \n",
       "0  \\n삼성중공업이 건조한 세상에서 가장 큰 배 프렐류드 FLNG.출쳐 Shell 유튜...  \n",
       "1  \\n김지형 삼성 준법감시위원회 위원장이 5일 서울 서초구 삼성생명 서초타워에서 열린...  \n",
       "2  \\n현대 테라타워 영통 투시도 사진 현대엔지니어링대기업 인근 지식산업센터가 투자자들...  \n",
       "3  \\n 파이낸셜뉴스 한국예탁결제원은 12월 결산 상장사 중 총 105곳이 정기주주총회...  \n",
       "4  \\n사진제공한국예탁결제원 한국예탁결제원은 12월 결산 상장사 중 총 105곳이 정기...  "
      ]
     },
     "execution_count": 143,
     "metadata": {},
     "output_type": "execute_result"
    }
   ],
   "source": [
    "df.head()"
   ]
  },
  {
   "cell_type": "code",
   "execution_count": 144,
   "metadata": {},
   "outputs": [],
   "source": [
    "df_1 = df[[\"date\", \"body\"]]"
   ]
  },
  {
   "cell_type": "code",
   "execution_count": 145,
   "metadata": {},
   "outputs": [
    {
     "data": {
      "text/html": [
       "<div>\n",
       "<style scoped>\n",
       "    .dataframe tbody tr th:only-of-type {\n",
       "        vertical-align: middle;\n",
       "    }\n",
       "\n",
       "    .dataframe tbody tr th {\n",
       "        vertical-align: top;\n",
       "    }\n",
       "\n",
       "    .dataframe thead th {\n",
       "        text-align: right;\n",
       "    }\n",
       "</style>\n",
       "<table border=\"1\" class=\"dataframe\">\n",
       "  <thead>\n",
       "    <tr style=\"text-align: right;\">\n",
       "      <th></th>\n",
       "      <th>date</th>\n",
       "      <th>body</th>\n",
       "    </tr>\n",
       "  </thead>\n",
       "  <tbody>\n",
       "    <tr>\n",
       "      <td>0</td>\n",
       "      <td>2020.03.07</td>\n",
       "      <td>\\n삼성중공업이 건조한 세상에서 가장 큰 배 프렐류드 FLNG.출쳐 Shell 유튜...</td>\n",
       "    </tr>\n",
       "    <tr>\n",
       "      <td>1</td>\n",
       "      <td>2020.03.07</td>\n",
       "      <td>\\n김지형 삼성 준법감시위원회 위원장이 5일 서울 서초구 삼성생명 서초타워에서 열린...</td>\n",
       "    </tr>\n",
       "    <tr>\n",
       "      <td>2</td>\n",
       "      <td>2020.03.07</td>\n",
       "      <td>\\n현대 테라타워 영통 투시도 사진 현대엔지니어링대기업 인근 지식산업센터가 투자자들...</td>\n",
       "    </tr>\n",
       "    <tr>\n",
       "      <td>3</td>\n",
       "      <td>2020.03.07</td>\n",
       "      <td>\\n 파이낸셜뉴스 한국예탁결제원은 12월 결산 상장사 중 총 105곳이 정기주주총회...</td>\n",
       "    </tr>\n",
       "    <tr>\n",
       "      <td>4</td>\n",
       "      <td>2020.03.06</td>\n",
       "      <td>\\n사진제공한국예탁결제원 한국예탁결제원은 12월 결산 상장사 중 총 105곳이 정기...</td>\n",
       "    </tr>\n",
       "    <tr>\n",
       "      <td>...</td>\n",
       "      <td>...</td>\n",
       "      <td>...</td>\n",
       "    </tr>\n",
       "    <tr>\n",
       "      <td>4016</td>\n",
       "      <td>2019.10.15</td>\n",
       "      <td>\\n주력 반도체 실적악화·계열사 구조조정 등 경영환경 악화축제에도 내부 분위기 암울...</td>\n",
       "    </tr>\n",
       "    <tr>\n",
       "      <td>4017</td>\n",
       "      <td>2019.10.15</td>\n",
       "      <td>\\n선제적 대형화 전략 성공하면서70인치 이상 TV 판매비중 28그간 주류였던 50...</td>\n",
       "    </tr>\n",
       "    <tr>\n",
       "      <td>4018</td>\n",
       "      <td>2019.10.15</td>\n",
       "      <td>\\n 獨 드림칩 협력..17일 첫 SAFE포럼서 기술 공유 완성차업체 밀집한 유럽....</td>\n",
       "    </tr>\n",
       "    <tr>\n",
       "      <td>4019</td>\n",
       "      <td>2019.10.15</td>\n",
       "      <td>\\n연말 시안·평택2공장 완공 앞둬추가생산땐 되레 수익악화 우려삼성 가동시기·품목 ...</td>\n",
       "    </tr>\n",
       "    <tr>\n",
       "      <td>4020</td>\n",
       "      <td>2019.10.15</td>\n",
       "      <td>\\n\\t\\t\\t 이데일리N1 한은 소득주도성장 추진 시 경제전반 고려해야2 금융당국...</td>\n",
       "    </tr>\n",
       "  </tbody>\n",
       "</table>\n",
       "<p>4021 rows × 2 columns</p>\n",
       "</div>"
      ],
      "text/plain": [
       "             date                                               body\n",
       "0      2020.03.07  \\n삼성중공업이 건조한 세상에서 가장 큰 배 프렐류드 FLNG.출쳐 Shell 유튜...\n",
       "1      2020.03.07  \\n김지형 삼성 준법감시위원회 위원장이 5일 서울 서초구 삼성생명 서초타워에서 열린...\n",
       "2      2020.03.07  \\n현대 테라타워 영통 투시도 사진 현대엔지니어링대기업 인근 지식산업센터가 투자자들...\n",
       "3      2020.03.07  \\n 파이낸셜뉴스 한국예탁결제원은 12월 결산 상장사 중 총 105곳이 정기주주총회...\n",
       "4      2020.03.06  \\n사진제공한국예탁결제원 한국예탁결제원은 12월 결산 상장사 중 총 105곳이 정기...\n",
       "...           ...                                                ...\n",
       "4016   2019.10.15  \\n주력 반도체 실적악화·계열사 구조조정 등 경영환경 악화축제에도 내부 분위기 암울...\n",
       "4017   2019.10.15  \\n선제적 대형화 전략 성공하면서70인치 이상 TV 판매비중 28그간 주류였던 50...\n",
       "4018   2019.10.15  \\n 獨 드림칩 협력..17일 첫 SAFE포럼서 기술 공유 완성차업체 밀집한 유럽....\n",
       "4019   2019.10.15  \\n연말 시안·평택2공장 완공 앞둬추가생산땐 되레 수익악화 우려삼성 가동시기·품목 ...\n",
       "4020   2019.10.15  \\n\\t\\t\\t 이데일리N1 한은 소득주도성장 추진 시 경제전반 고려해야2 금융당국...\n",
       "\n",
       "[4021 rows x 2 columns]"
      ]
     },
     "execution_count": 145,
     "metadata": {},
     "output_type": "execute_result"
    }
   ],
   "source": [
    "df_1"
   ]
  },
  {
   "cell_type": "code",
   "execution_count": 146,
   "metadata": {},
   "outputs": [],
   "source": [
    "df_1[\"trans\"] =\"\""
   ]
  },
  {
   "cell_type": "code",
   "execution_count": 147,
   "metadata": {},
   "outputs": [
    {
     "data": {
      "text/html": [
       "<div>\n",
       "<style scoped>\n",
       "    .dataframe tbody tr th:only-of-type {\n",
       "        vertical-align: middle;\n",
       "    }\n",
       "\n",
       "    .dataframe tbody tr th {\n",
       "        vertical-align: top;\n",
       "    }\n",
       "\n",
       "    .dataframe thead th {\n",
       "        text-align: right;\n",
       "    }\n",
       "</style>\n",
       "<table border=\"1\" class=\"dataframe\">\n",
       "  <thead>\n",
       "    <tr style=\"text-align: right;\">\n",
       "      <th></th>\n",
       "      <th>date</th>\n",
       "      <th>body</th>\n",
       "      <th>trans</th>\n",
       "    </tr>\n",
       "  </thead>\n",
       "  <tbody>\n",
       "    <tr>\n",
       "      <td>0</td>\n",
       "      <td>2020.03.07</td>\n",
       "      <td>\\n삼성중공업이 건조한 세상에서 가장 큰 배 프렐류드 FLNG.출쳐 Shell 유튜...</td>\n",
       "      <td></td>\n",
       "    </tr>\n",
       "    <tr>\n",
       "      <td>1</td>\n",
       "      <td>2020.03.07</td>\n",
       "      <td>\\n김지형 삼성 준법감시위원회 위원장이 5일 서울 서초구 삼성생명 서초타워에서 열린...</td>\n",
       "      <td></td>\n",
       "    </tr>\n",
       "    <tr>\n",
       "      <td>2</td>\n",
       "      <td>2020.03.07</td>\n",
       "      <td>\\n현대 테라타워 영통 투시도 사진 현대엔지니어링대기업 인근 지식산업센터가 투자자들...</td>\n",
       "      <td></td>\n",
       "    </tr>\n",
       "    <tr>\n",
       "      <td>3</td>\n",
       "      <td>2020.03.07</td>\n",
       "      <td>\\n 파이낸셜뉴스 한국예탁결제원은 12월 결산 상장사 중 총 105곳이 정기주주총회...</td>\n",
       "      <td></td>\n",
       "    </tr>\n",
       "    <tr>\n",
       "      <td>4</td>\n",
       "      <td>2020.03.06</td>\n",
       "      <td>\\n사진제공한국예탁결제원 한국예탁결제원은 12월 결산 상장사 중 총 105곳이 정기...</td>\n",
       "      <td></td>\n",
       "    </tr>\n",
       "  </tbody>\n",
       "</table>\n",
       "</div>"
      ],
      "text/plain": [
       "          date                                               body trans\n",
       "0   2020.03.07  \\n삼성중공업이 건조한 세상에서 가장 큰 배 프렐류드 FLNG.출쳐 Shell 유튜...      \n",
       "1   2020.03.07  \\n김지형 삼성 준법감시위원회 위원장이 5일 서울 서초구 삼성생명 서초타워에서 열린...      \n",
       "2   2020.03.07  \\n현대 테라타워 영통 투시도 사진 현대엔지니어링대기업 인근 지식산업센터가 투자자들...      \n",
       "3   2020.03.07  \\n 파이낸셜뉴스 한국예탁결제원은 12월 결산 상장사 중 총 105곳이 정기주주총회...      \n",
       "4   2020.03.06  \\n사진제공한국예탁결제원 한국예탁결제원은 12월 결산 상장사 중 총 105곳이 정기...      "
      ]
     },
     "execution_count": 147,
     "metadata": {},
     "output_type": "execute_result"
    }
   ],
   "source": [
    "df_1.head()"
   ]
  },
  {
   "cell_type": "code",
   "execution_count": null,
   "metadata": {},
   "outputs": [],
   "source": [
    "# jupyter notebook --NotebookApp.iopub_data_rate_limit=1.0e10 \n",
    "# if IOPub data rate exceeded."
   ]
  },
  {
   "cell_type": "code",
   "execution_count": 157,
   "metadata": {},
   "outputs": [
    {
     "data": {
      "text/plain": [
       "4021"
      ]
     },
     "execution_count": 157,
     "metadata": {},
     "output_type": "execute_result"
    }
   ],
   "source": [
    "len(df_1)"
   ]
  },
  {
   "cell_type": "code",
   "execution_count": 159,
   "metadata": {},
   "outputs": [
    {
     "name": "stderr",
     "output_type": "stream",
     "text": [
      "IOPub data rate exceeded.\n",
      "The notebook server will temporarily stop sending output\n",
      "to the client in order to avoid crashing it.\n",
      "To change this limit, set the config variable\n",
      "`--NotebookApp.iopub_data_rate_limit`.\n",
      "\n",
      "Current values:\n",
      "NotebookApp.iopub_data_rate_limit=1000000.0 (bytes/sec)\n",
      "NotebookApp.rate_limit_window=3.0 (secs)\n",
      "\n"
     ]
    }
   ],
   "source": [
    "for i in range(1,1000):\n",
    "    \n",
    "    print(df_1['body'][0])"
   ]
  },
  {
   "cell_type": "code",
   "execution_count": 32,
   "metadata": {},
   "outputs": [],
   "source": [
    "a = str(df_1[\"body\"][0])"
   ]
  },
  {
   "cell_type": "code",
   "execution_count": 129,
   "metadata": {},
   "outputs": [],
   "source": [
    "re_num = math.ceil(len(a) / 2000)"
   ]
  },
  {
   "cell_type": "code",
   "execution_count": 130,
   "metadata": {},
   "outputs": [
    {
     "data": {
      "text/plain": [
       "2"
      ]
     },
     "execution_count": 130,
     "metadata": {},
     "output_type": "execute_result"
    }
   ],
   "source": [
    "re_num"
   ]
  },
  {
   "cell_type": "code",
   "execution_count": 140,
   "metadata": {},
   "outputs": [],
   "source": [
    "c = 0\n",
    "e =\"\"\n",
    "\n",
    "for i in range(1,re_num+1):\n",
    "    \n",
    "    d = a[c:2000*i]\n",
    "    \n",
    "    c = 2000 * i\n",
    "    \n",
    "    tr_results = translator.translate(d)\n",
    "    \n",
    "    e = e + tr_results.text\n",
    "    \n",
    "    \n",
    "    \n",
    "    \n",
    "    "
   ]
  },
  {
   "cell_type": "code",
   "execution_count": 141,
   "metadata": {},
   "outputs": [
    {
     "data": {
      "text/plain": [
       "'Gimjihyeong Samsung Compliance Committee and chaired the meeting attended five days, Seocho-gu, Seoul 1st meeting Samsung Compliance Committee in Samsung Life Seocho Tower above Samsung compliance is to eradicate employees tort of including Samsung main subsidiaries Top Executives CEO and the external independent body organized to strengthen the compliance management gangjinhyeong reporters aymsdream Samsung Compliance Committee which was launched earlier this year, is preparing a multi-layered recommendations, such as trade unions, succession, communication with civil society in meetings 3 times and walking a wide moves such move is the intent of the Compliance committee to dispel the concerns of the above compliance detractors gonna proper operation of civil society organizations and political corner to stabilize the activity is interpreted as implied above, compliance is a variety to keep the future independence and enable the monitoring function Samsung plans to the efforts of the 2020 buzzword compliance management times Group D 2 times the first Apple buzzword this year in compliance above Samsung brought out of the compliance management is Lee Jae-yong, Samsung Electronics Vice Chairman drop in Gyeonggi Hwaseong workplace Semiconductor Laboratory as the first business move New Year in January of this year, \"bad practices and accidents boldly discarded and \"said\" pioneering guests a new future our neighbor Let sharing in mind gilim to our mission and reaching 100 years old company that grows together, as our society, \"said Samsung a few days after the compliance monitoring for compliance management for Samsung major subsidiaries above the establishment and gimjihyeong ago was appointed chancellor as chairman Kim immediate legal profession, civil society, and has said Ji County consumer sovereignty founding Secretary General gwontaeseon civil society solidarity co-President of siminhoe experts and joined forces external members of the academic community gimwoojin Seoul University graduate School of Business Administration Professor, former Supreme Prosecutor\\'s Office deputy seam inspection bonguk Insuk established above internal regulations Central University Law School Professor internal committee has yiinyong Samsung CR president invited the Compliance Committee appointed gotta have an activity in the month May and 13th respectively opened up the Compliance 1st and 2nd meeting of the Compliance with proceeded foreign donations and insider trading prior and post review of the Samsung above compliance above being also underway Main Account and receive reports of the Secretariat and edge operations and compliance matters for the chopper activities groundwork ahead of Compliance is packing Secretariat simhuijeong the law firm horizon lawyers section of the Secretariat were there appointed bakjunyoung cross Cultural representative speech communication charge to communicate to inform the Compliance above activities, especially Main anonymous reporting system for anonymity, protection of whistleblowers plans to operate year commissioned an external specialist, especially Compliance is above the second meeting of the 2013 employee future Strategy Department at Samsung He led a group-wide apology for donations unauthorized reading NGOs Samsung 17 affiliates apologize for the advanced NGOs and official regulations to employees disturbing organizations, and \"re-take the lead responsibility from this day management to prevent recurrence of such standing establish measures to thoroughly it and pledged to faithfully fulfill to be sure to change the internal constitutional and cultural Compliance concerns the end of the recommendation voted tip various angles in the third meeting place, monitoring seat intent above compliance is open 7 twelve months 3 established the in meeting a Samsung executive plans to make recommendations relating to the trade union has been recently trade unions have established active within the group, such as Samsung Electronics and Samsung Corporation, Samsung display Kim contents of spirit you to arrange cooperation with specific unions has prepared the recommendations contained above compliance is another Samsung civil society organizations Determined according to the officials above compliance is reported and provided recommendations you to improve it that the communication lacks above compliance is not the same thing as civil society contribution unauthorized viewing of past US rooms occurred that comes from communicating lack of civil society organizations has explained as well as down also recommendations concerning Samsung\\'s succession policy is this recommendation is reached will be revealed during the next compliance above the inside, you can reduce the fear must activate the recommendations and monitoring early from civil sahoegye and political tip comments are reportedly out some NGOs that are independent activities of Lee Jae-yong said, \"the Commission above Samsung destroyed farewell trial of Electronics vice chairman is having a negative gaze that means for the sentencing hearing and association recognized this compliance for over Compliance like effect on the trial results For situations where that is transparentIt shared the concern, \"he said\" The Commission is not aware of the circumstances, including the progress of a criminal trial for the position will be faithful to the Commission\\'s natural mission and mission \"which is a perspective also invited to chair the activities of the above features Compliance should be activated and the term active beyond are reported to maintain my role before the term of Compliance above Chairman and Commission Secretariat staff members may bar certain to two years above compliance is yet an open month workshop planned to elicit the Samsung collaboration the workshop Commission Secretariat, including Kim staff and Samsung affiliates gathered more than 30 people, including a compliance assistance takes place in April above compliance officials \"to be a honest opinion on various cooperative measures for compliance assistance activities of the Samsung group share expect, \"he told reporters yigimin victorleeasiaecokr'"
      ]
     },
     "execution_count": 141,
     "metadata": {},
     "output_type": "execute_result"
    }
   ],
   "source": [
    "e"
   ]
  },
  {
   "cell_type": "code",
   "execution_count": 122,
   "metadata": {},
   "outputs": [
    {
     "data": {
      "text/plain": [
       "1.5"
      ]
     },
     "execution_count": 122,
     "metadata": {},
     "output_type": "execute_result"
    }
   ],
   "source": [
    "3000 / 2000"
   ]
  },
  {
   "cell_type": "code",
   "execution_count": null,
   "metadata": {},
   "outputs": [],
   "source": [
    "if len(a) "
   ]
  },
  {
   "cell_type": "code",
   "execution_count": 112,
   "metadata": {},
   "outputs": [],
   "source": [
    "b = cleartext(a[:2000])"
   ]
  },
  {
   "cell_type": "code",
   "execution_count": 113,
   "metadata": {},
   "outputs": [
    {
     "data": {
      "text/plain": [
       "'김지형 삼성 준법감시위원회 위원장이 5일 서울 서초구 삼성생명 서초타워에서 열린 삼성 준법감시위원회 1차 회의에 참석해 회의를 주재하고 있다 삼성 준법감시위는 삼성 주요 계열사 최고경영진CEO을 포함한 임직원들의 불법행위를 근절하고 준법경영을 강화하기 위해 조직된 외부 독립기구다강진형 기자aymsdream올해 초 출범한 삼성 준법감시위원회가 회의 3번만에 노조·승계·시민단체 소통 등 다각도 권고안을 준비하며 광폭행보를 걷고 있다 이같은 행보는 준법감시위가 제대로 운영되겠냐는 시민사회단체와 정치권 일각의 우려를 불식시키고 활동을 안정화하려는 준법감시위원들의 의도가 내재된 것으로 풀이된다준법감시위는 향후 독립성을 유지하고 감시 기능을 활성화하기 위한 각종 노력을 다한다는 계획이다삼성의 2020년 화두 준법경영회의 2번에 그룹 차원 첫 사과 이끌어낸 준법감시위삼성그룹의 올해 화두는 준법경영이다 이재용 삼성전자 부회장은 올해 1월 새해 첫 경영행보로 경기도 화성사업장 반도체연구소에 들러 “잘못된 관행과 사고는 과감히 폐기하고 새로운 미래를 개척해 나가자”면서 “우리 이웃 우리 사회와 같이 나누고 함께 성장하는 것이 우리 사명이자 100년 기업에 이르는 길임을 명심하자”고 말했다 삼성은 며칠 뒤 삼성 주요 계열사의 준법경영을 위한 준법감시위를 신설하고 김지형 전 대법관을 위원장으로 지명했다 김 위원장은 곧바로 법조·시민사회·학계의 전문가들과 힘을 모았다 외부위원에는 고계현 소비자주권시민회의 창립 사무총장 권태선 시민사회단체연대회의 공동대표 김우진 서울대학교 경영대학원 경영학과 교수 봉욱 전 대검찰청 차장검사 심인숙 중앙대학교 법학전문대학원 교수 내부위원에는 이인용 삼성전자 CR담당 사장이 초대 준법감시위원으로 임명돼 활동을 하고 있다지난달 5일과 13일 각각 열린 준법감시위 1·2차회의에서는 준법감시위 내부 규정 확정 삼성의 대외후원금과 내부거래 사전·사후 심의를 진행했다 준법감시위는 활동 토대를 다지기 위해 사무국 인선작업과 준법사안과 관련된 신고를 받는 홈페이지 개설 작업도 한창 진행 중이다 앞서 준법감시위는 사무국을 꾸리고 심희정 법무법인 지평 변호사를 사무국장 준법감시위 활동을 알리고 소통할 언론소통 담당에는 박준영 크로스컬처 대표를 임명했다 특히 제보자의 익명성 보호를 위해 홈페이지 익명신고시스템을 외부 전문업체에 위탁해 운영할 계획이다특히 준법감시위는 2차회의에서 2013년 삼성 미래전략실의 임직원 시민단체 후원금 무단열람에 대한 그룹차원의 사과를 이끌어냈다 삼성 17개 계열사는 임직원 불온단체로 규정한 진보시민단체와 관계자들에 대해 사과하며 “다시는 이와 같은 일이 재발하지 않도록 경영진부터 책임지고 앞장서서 대책을 수립해 이를 철저하고 성실하게 이행해 내부 체질과 문화를 확실히 바꾸도록 하겠다고 밝혔다준법감시위 3차회의에서 다각도 권고안 의결일각의 우려 종식· 감시 기능 안착 의도준법감시위는 이달 7일 열린 3차 회의에서 삼성 경영진에게 노동조합과 관련된 권고를 할 방침을 세웠다 삼성전자·삼성물산·삼성디스플레이 등 그룹 내에서 최근 노조가 활발히 설립되고 있다 김 위원장은 구체적인 노조와의 협력 방안을 마련하라는 취지의 내용이 담긴 권고안을 준비하고 있다 준법감시위는 또 삼성이 시민사회단체와의 소통이 부족했다고 보고 이를 개선하라는 권고안을 마련하고 있다 준법감시위 관계자에 따르면 준법감시위는 과거 미전실의 시민단체 후원금 무단열람과 같은 일이 발생한 것은 시민사회단체와의 소통 부족에서 나온 것이라고 판단했다고 설명했다 아울러 삼성의 승계와 관련된 권고도 내린다는 방침이다 이번 권고안은 이르면 다음주 중에 공개될 예정이다준법감시위 내부에서는 권고와 감시 기능을 조기에 활성화해야 시민사회계와 정치권 일각에서 나오는 우려를 줄일 수 있다는 의견이 나오는 것으로 알려졌다 일부 시민단체는 준법감시위에 대해 이재용 삼성전자 부회장의 파기환송심 재판 양형 심리와 연계를 위한 수단이라는 부정적인 시선을 보내고 있다 이를 인식한 준법감시위는 “위원회의 독립적인 활동이 마치 재판결과에 영향을 주는 것으로 비쳐지는 상황에 대'"
      ]
     },
     "execution_count": 113,
     "metadata": {},
     "output_type": "execute_result"
    }
   ],
   "source": [
    "b"
   ]
  },
  {
   "cell_type": "code",
   "execution_count": 108,
   "metadata": {},
   "outputs": [],
   "source": [
    "c = '김지형 삼성 준법감시위원회 위원장이 5일 서울 서초구 삼성생명 서초타워에서 열린 삼성 준법감시위원회 1차 회의에 참석해 회의를 주재하고 있다 삼성 준법감시위는 삼성 주요 계열사 최고경영진CEO을 포함한 임직원들의 불법행위를 근절하고 준법경영을 강화하기 위해 조직된 외부 독립기구다강진형 기자aymsdream올해 초 출범한 삼성 준법감시위원회가 회의 3번만에 노조·승계·시민단체 소통 등 다각도 권고안을 준비하며 광폭행보를 걷고 있다 이같은 행보는 준법감시위가 제대로 운영되겠냐는 시민사회단체와 정치권 일각의 우려를 불식시키고 활동을 안정화하려는 준법감시위원들의 의도가 내재된 것으로 풀이된다준법감시위는 향후 독립성을 유지하고 감시 기능을 활성화하기 위한 각종 노력을 다한다는 계획이다삼성의 2020년 화두 준법경영회의 2번에 그룹 차원 첫 사과 이끌어낸 준법감시위삼성그룹의 올해 화두는 준법경영이다 이재용 삼성전자 부회장은 올해 1월 새해 첫 경영행보로 경기도 화성사업장 반도체연구소에 들러 “잘못된 관행과 사고는 과감히 폐기하고 새로운 미래를 개척해 나가자”면서 “우리 이웃 우리 사회와 같이 나누고 함께 성장하는 것이 우리 사명이자 100년 기업에 이르는 길임을 명심하자”고 말했다 삼성은 며칠 뒤 삼성 주요 계열사의 준법경영을 위한 준법감시위를 신설하고 김지형 전 대법관을 위원장으로 지명했다 김 위원장은 곧바로 법조·시민사회·학계의 전문가들과 힘을 모았다 외부위원에는 고계현 소비자주권시민회의 창립 사무총장 권태선 시민사회단체연대회의 공동대표 김우진 서울대학교 경영대학원 경영학과 교수 봉욱 전 대검찰청 차장검사 심인숙 중앙대학교 법학전문대학원 교수 내부위원에는 이인용 삼성전자 CR담당 사장이 초대 준법감시위원으로 임명돼 활동을 하고 있다지난달 5일과 13일 각각 열린 준법감시위 1·2차회의에서는 준법감시위 내부 규정 확정 삼성의 대외후원금과 내부거래 사전·사후 심의를 진행했다 준법감시위는 활동 토대를 다지기 위해 사무국 인선작업과 준법사안과 관련된 신고를 받는 홈페이지 개설 작업도 한창 진행 중이다 앞서 준법감시위는 사무국을 꾸리고 심희정 법무법인 지평 변호사를 사무국장 준법감시위 활동을 알리고 소통할 언론소통 담당에는 박준영 크로스컬처 대표를 임명했다 특히 제보자의 익명성 보호를 위해 홈페이지 익명신고시스템을 외부 전문업체에 위탁해 운영할 계획이다특히 준법감시위는 2차회의에서 2013년 삼성 미래전략실의 임직원 시민단체 후원금 무단열람에 대한 그룹차원의 사과를 이끌어냈다 삼성 17개 계열사는 임직원 불온단체로 규정한 진보시민단체와 관계자들에 대해 사과하며 “다시는 이와 같은 일이 재발하지 않도록 경영진부터 책임지고 앞장서서 대책을 수립해 이를 철저하고 성실하게 이행해 내부 체질과 문화를 확실히 바꾸도록 하겠다고 밝혔다준법감시위 3차회의에서 다각도 권고안 의결일각의 우려 종식· 감시 기능 안착 의도준법감시위는 이달 7일 열린 3차 회의에서 삼성 경영진에게 노동조합과 관련된 권고를 할 방침을 세웠다 삼성전자·삼성물산·삼성디스플레이 등 그룹 내에서 최근 노조가 활발히 설립되고 있다 김 위원장은 구체적인 노조와의 협력 방안을 마련하라는 취지의 내용이 담긴 권고안을 준비하고 있다 준법감시위는 또 삼성이 시민사회단체와의 소통이 부족했다고 보고 이를 개선하라는 권고안을 마련하고 있다 준법감시위 관계자에 따르면 준법감시위는 과거 미전실의 시민단체 후원금 무단열람과 같은 일이 발생한 것은 시민사회단체와의 소통 부족에서 나온 것이라고 판단했다고 설명했다 아울러 삼성의 승계와 관련된 권고도 내린다는 방침이다 이번 권고안은 이르면 다음주 중에 공개될 예정이다준법감시위 내부에서는 권고와 감시 기능을 조기에 활성화해야 시민사회계와 정치권 일각에서 나오는 우려를 줄일 수 있다는 의견이 나오는 것으로 알려졌다 일부 시민단체는 준법감시위에 대해 이재용 삼성전자 부회장의 파기환송심 재판 양형 심리와 연계를 위한 수단이라는 부정적인 시선을 보내고 있다 이를 인식한 준법감시위는 “위원회의 독립적인 활동이 마치 재판결과에 영향을 주는 것으로 비쳐지는 상황에 대해서 우려를 공유했다”며 “위원회는 총수에 대한 형사재판의 진행 등 주변 상황을 의식하지 않고 위원회 본연의 사명과 임무에 충실할 것”이는 입장이다또한 준법감시위의 활동 기능이 활성화 돼야 초대 위원장과 위원의 임기가 끝나도 제 역할을 유지할 수 있다고 보고 있다 앞서 준법감시위 위원장과 위원 사무국 직원의 임기는 2년으로 정해진 바 있다 준법감시위는 또 삼성의 협력을 이끌어내기 위해 다음달 워크샵을 열 계획이다 이번 워크샵은'"
   ]
  },
  {
   "cell_type": "code",
   "execution_count": 110,
   "metadata": {},
   "outputs": [
    {
     "data": {
      "text/plain": [
       "2239"
      ]
     },
     "execution_count": 110,
     "metadata": {},
     "output_type": "execute_result"
    }
   ],
   "source": [
    "len(c)"
   ]
  },
  {
   "cell_type": "code",
   "execution_count": 116,
   "metadata": {},
   "outputs": [
    {
     "data": {
      "text/plain": [
       "1999"
      ]
     },
     "execution_count": 116,
     "metadata": {},
     "output_type": "execute_result"
    }
   ],
   "source": [
    "len(b)"
   ]
  },
  {
   "cell_type": "code",
   "execution_count": 114,
   "metadata": {},
   "outputs": [],
   "source": [
    "tr_results = translator.translate(b)"
   ]
  },
  {
   "cell_type": "code",
   "execution_count": 115,
   "metadata": {},
   "outputs": [
    {
     "data": {
      "text/plain": [
       "'Gimjihyeong Samsung Compliance Committee and chaired the meeting attended five days, Seocho-gu, Seoul 1st meeting Samsung Compliance Committee in Samsung Life Seocho Tower above Samsung compliance is to eradicate employees tort of including Samsung main subsidiaries Top Executives CEO and the external independent body organized to strengthen the compliance management gangjinhyeong reporters aymsdream Samsung Compliance Committee which was launched earlier this year, is preparing a multi-layered recommendations, such as trade unions, succession, communication with civil society in meetings 3 times and walking a wide moves such move is the intent of the Compliance committee to dispel the concerns of the above compliance detractors gonna proper operation of civil society organizations and political corner to stabilize the activity is interpreted as implied above, compliance is a variety to keep the future independence and enable the monitoring function Samsung plans to the efforts of the 2020 buzzword compliance management times Group D 2 times the first Apple buzzword this year in compliance above Samsung brought out of the compliance management is Lee Jae-yong, Samsung Electronics Vice Chairman drop in Gyeonggi Hwaseong workplace Semiconductor Laboratory as the first business move New Year in January of this year, \"bad practices and accidents boldly discarded and \"said\" pioneering guests a new future our neighbor Let sharing in mind gilim to our mission and reaching 100 years old company that grows together, as our society, \"said Samsung a few days after the compliance monitoring for compliance management for Samsung major subsidiaries above the establishment and gimjihyeong ago was appointed chancellor as chairman Kim immediate legal profession, civil society, and has said Ji County consumer sovereignty founding Secretary General gwontaeseon civil society solidarity co-President of siminhoe experts and joined forces external members of the academic community gimwoojin Seoul University graduate School of Business Administration Professor, former Supreme Prosecutor\\'s Office deputy seam inspection bonguk Insuk established above internal regulations Central University Law School Professor internal committee has yiinyong Samsung CR president invited the Compliance Committee appointed gotta have an activity in the month May and 13th respectively opened up the Compliance 1st and 2nd meeting of the Compliance with proceeded foreign donations and insider trading prior and post review of the Samsung above compliance above being also underway Main Account and receive reports of the Secretariat and edge operations and compliance matters for the chopper activities groundwork ahead of Compliance is packing Secretariat simhuijeong the law firm horizon lawyers section of the Secretariat were there appointed bakjunyoung cross Cultural representative speech communication charge to communicate to inform the Compliance above activities, especially Main anonymous reporting system for anonymity, protection of whistleblowers plans to operate year commissioned an external specialist, especially Compliance is above the second meeting of the 2013 employee future Strategy Department at Samsung He led a group-wide apology for donations unauthorized reading NGOs Samsung 17 affiliates apologize for the advanced NGOs and official regulations to employees disturbing organizations, and \"re-take the lead responsibility from this day management to prevent recurrence of such standing establish measures to thoroughly it and pledged to faithfully fulfill to be sure to change the internal constitutional and cultural Compliance concerns the end of the recommendation voted tip various angles in the third meeting place, monitoring seat intent above compliance is open 7 twelve months 3 established the in meeting a Samsung executive plans to make recommendations relating to the trade union has been recently trade unions have established active within the group, such as Samsung Electronics and Samsung Corporation, Samsung display Kim contents of spirit you to arrange cooperation with specific unions has prepared the recommendations contained above compliance is another Samsung civil society organizations Determined according to the officials above compliance is reported and provided recommendations you to improve it that the communication lacks above compliance is not the same thing as civil society contribution unauthorized viewing of past US rooms occurred that comes from communicating lack of civil society organizations has explained as well as down also recommendations concerning Samsung\\'s succession policy is this recommendation is reached will be revealed during the next compliance above the inside, you can reduce the fear must activate the recommendations and monitoring early from civil sahoegye and political tip comments are reportedly out some NGOs that are independent activities of Lee Jae-yong said, \"the Commission above Samsung destroyed farewell trial of Electronics vice chairman is having a negative gaze that means for the sentencing hearing and association recognized this compliance for over Compliance like effect on the trial results For situations where that is transparent'"
      ]
     },
     "execution_count": 115,
     "metadata": {},
     "output_type": "execute_result"
    }
   ],
   "source": [
    "tr_results.text"
   ]
  },
  {
   "cell_type": "code",
   "execution_count": 117,
   "metadata": {},
   "outputs": [
    {
     "data": {
      "text/plain": [
       "0.9571"
      ]
     },
     "execution_count": 117,
     "metadata": {},
     "output_type": "execute_result"
    }
   ],
   "source": [
    "sia.polarity_scores(tr_results.text)['compound']"
   ]
  },
  {
   "cell_type": "code",
   "execution_count": null,
   "metadata": {},
   "outputs": [],
   "source": [
    "nltk.download('vader_lexicon')\n",
    "sia = SentimentIntensityAnalyzer()"
   ]
  },
  {
   "cell_type": "code",
   "execution_count": 4,
   "metadata": {},
   "outputs": [],
   "source": [
    "from nltk.corpus import brown"
   ]
  },
  {
   "cell_type": "code",
   "execution_count": 5,
   "metadata": {},
   "outputs": [
    {
     "data": {
      "text/plain": [
       "['The', 'Fulton', 'County', 'Grand', 'Jury', 'said', ...]"
      ]
     },
     "execution_count": 5,
     "metadata": {},
     "output_type": "execute_result"
    }
   ],
   "source": [
    "brown.words()"
   ]
  },
  {
   "cell_type": "code",
   "execution_count": 7,
   "metadata": {},
   "outputs": [],
   "source": [
    "sia = SentimentIntensityAnalyzer()"
   ]
  },
  {
   "cell_type": "code",
   "execution_count": 11,
   "metadata": {},
   "outputs": [
    {
     "data": {
      "text/plain": [
       "0.7269"
      ]
     },
     "execution_count": 11,
     "metadata": {},
     "output_type": "execute_result"
    }
   ],
   "source": [
    "sia.polarity_scores(passage)['compound']"
   ]
  },
  {
   "cell_type": "code",
   "execution_count": 10,
   "metadata": {},
   "outputs": [],
   "source": [
    "passage = \"As a Business Analytics student, you will gain a solid foundation in the statistical and analytical methods that make up the backbone of data science. You'll learn to work with spreadsheets, aggregate data, evaluate statistical significance, and determine statistical trends.With a background in Business Analytics, you can find a niche in almost any industry. Data analysts can be found everywhere from IT consultancies to web marketing agencies, inside government bureaus and at leading startups.\""
   ]
  },
  {
   "cell_type": "code",
   "execution_count": 12,
   "metadata": {},
   "outputs": [],
   "source": [
    "passage = \"when can u stop having train fault? i'm late for my lab class \""
   ]
  },
  {
   "cell_type": "code",
   "execution_count": 13,
   "metadata": {},
   "outputs": [
    {
     "data": {
      "text/plain": [
       "-0.5994"
      ]
     },
     "execution_count": 13,
     "metadata": {},
     "output_type": "execute_result"
    }
   ],
   "source": [
    "sia.polarity_scores(passage)['compound']"
   ]
  },
  {
   "cell_type": "code",
   "execution_count": 15,
   "metadata": {},
   "outputs": [],
   "source": [
    "from googletrans import Translator"
   ]
  },
  {
   "cell_type": "code",
   "execution_count": 16,
   "metadata": {},
   "outputs": [],
   "source": [
    "translator = Translator()"
   ]
  },
  {
   "cell_type": "code",
   "execution_count": 23,
   "metadata": {},
   "outputs": [],
   "source": [
    "tr_results = translator.translate(\"삼성전자는 경북 구미 사업장에서 생산하던 프리미엄 스마트폰 일부를 한시적으로 베트남 공장에서 생산한다고 밝혔다. 최근 구미 사업장에서 코로나19 환자가 잇따라 발생하면서 사업에 일부 차질을 빚었기 때문이다.6일 삼성전자에 따르면 이 회사는 구미에서 전량 생산하던 갤럭시S20 시리즈와 갤럭시노트10 등 프리미엄 스마트폰을 베트남에서 만들어 국내로 들여올 계획이다. 베트남 공장에서는 월 최대 20만대가량의 스마트폰이 생산될 것으로 알려졌다. 베트남에서 생산된 스마트폰은 이르면 이달 하순부터 국내 소비자에게 공급된다.한편 이날 삼성전자 구미 사업장에서 5번째 임직원 코로나19 확진자가 나왔다. 삼성전자는 구미 2사업장 무선사업부 직원이 이날 확진 판정을 받음에 따라 스마트폰 생산라인을 포함한 사업장 전체를 7일까지 폐쇄하기로 했다.\")"
   ]
  },
  {
   "cell_type": "code",
   "execution_count": 24,
   "metadata": {},
   "outputs": [
    {
     "data": {
      "text/plain": [
       "'Samsung Electronics has announced temporary production plant in Vietnam for premium smartphones, some was produced in Gyeongbuk Gumi. Recently because biteot some disruption to the business, while the corona 19 patients successively occurred in Gumi 0.6 days, according to Samsung, the company has created a premium smartphones such as the Galaxy S20 series and quantity production of the Galaxy Note 10 in the West was in Vietnam plans to be imported into the country. In Vietnam, the factory was known to be a smartphone with approximately 200,000 monthly maximum production. The smartphone production in Vietnam as early as supplied to domestic consumers from the end of the month. Meanwhile came a corona 19 employees self-fifth confirmed by Samsung Electronics Gumi. Samsung has decided to shut down the entire business, including smartphones production line according to the rating of the Gumi 2 business day Wireless Division staff confirmed the determination to 7 days.'"
      ]
     },
     "execution_count": 24,
     "metadata": {},
     "output_type": "execute_result"
    }
   ],
   "source": [
    "tr_results.text"
   ]
  },
  {
   "cell_type": "code",
   "execution_count": null,
   "metadata": {},
   "outputs": [],
   "source": []
  }
 ],
 "metadata": {
  "kernelspec": {
   "display_name": "Python 3",
   "language": "python",
   "name": "python3"
  },
  "language_info": {
   "codemirror_mode": {
    "name": "ipython",
    "version": 3
   },
   "file_extension": ".py",
   "mimetype": "text/x-python",
   "name": "python",
   "nbconvert_exporter": "python",
   "pygments_lexer": "ipython3",
   "version": "3.7.4"
  }
 },
 "nbformat": 4,
 "nbformat_minor": 2
}
